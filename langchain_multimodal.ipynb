{
 "cells": [
  {
   "cell_type": "markdown",
   "id": "812a4dbc-fe04-4b84-bdf9-390045e30806",
   "metadata": {
    "id": "812a4dbc-fe04-4b84-bdf9-390045e30806"
   },
   "source": [
    "<!-- # Multi-modal RAG with LangChain -->"
   ]
  },
  {
   "cell_type": "markdown",
   "id": "ecXPgawqG7XH",
   "metadata": {
    "id": "ecXPgawqG7XH"
   },
   "source": [
    "<!-- ## SetUp\n",
    "\n",
    "Install the dependencies you need to run the notebook. -->"
   ]
  },
  {
   "cell_type": "code",
   "execution_count": 127,
   "id": "133b74f6",
   "metadata": {
    "id": "133b74f6"
   },
   "outputs": [],
   "source": [
    "# for linux\n",
    "# %sudo apt-get install poppler-utils tesseract-ocr libmagic-dev\n",
    "\n",
    "# for mac\n",
    "# %brew install poppler tesseract libmagic"
   ]
  },
  {
   "cell_type": "code",
   "execution_count": 128,
   "id": "2nDWBTrhn-_M",
   "metadata": {
    "id": "2nDWBTrhn-_M",
    "outputId": "7f1e98ab-538a-4c49-85ef-8590f83c4770"
   },
   "outputs": [],
   "source": [
    "# %pip install -Uq \"unstructured[all-docs]\" pillow lxml pillow\n",
    "# %pip install -Uq chromadb tiktoken\n",
    "# %pip install -Uq langchain langchain-community langchain-openai langchain-groq\n",
    "# %pip install -Uq python_dotenv"
   ]
  },
  {
   "cell_type": "code",
   "execution_count": 129,
   "id": "91106e31",
   "metadata": {
    "id": "91106e31",
    "outputId": "fb35d92c-c338-4b78-bacb-5da648093f6e"
   },
   "outputs": [],
   "source": [
    "# import os\n",
    "\n",
    "# # keys for the services we will use\n",
    "\n",
    "# os.environ[\"OPENAI_API_KEY\"] = \"sk-...\"\n",
    "# os.environ[\"GROQ_API_KEY\"] = \"sk-...\"\n",
    "# os.environ[\"LANGCHAIN_API_KEY\"] = \"sk-...\"\n",
    "# os.environ[\"LANGCHAIN_TRACING_V2\"] = \"true\""
   ]
  },
  {
   "cell_type": "code",
   "execution_count": 131,
   "id": "834f355d",
   "metadata": {},
   "outputs": [],
   "source": []
  },
  {
   "cell_type": "markdown",
   "id": "74b56bde-1ba0-4525-a11d-cab02c5659e4",
   "metadata": {
    "id": "74b56bde-1ba0-4525-a11d-cab02c5659e4"
   },
   "source": [
    "<!-- ## Extract the data\n",
    "\n",
    "Extract the elements of the PDF that we will be able to use in the retrieval process. These elements can be: Text, Images, Tables, etc. -->"
   ]
  },
  {
   "cell_type": "markdown",
   "id": "e62ec070",
   "metadata": {
    "id": "e62ec070"
   },
   "source": [
    "<!-- ### Partition PDF tables, text, and images -->"
   ]
  },
  {
   "cell_type": "code",
   "execution_count": 2,
   "id": "0a046528-8d22-4f4e-a520-962026562939",
   "metadata": {
    "colab": {
     "base_uri": "https://localhost:8080/",
     "height": 308,
     "referenced_widgets": [
      "5246faf4e8194647a4b41d9de5a168f6",
      "c8f31460d7d5420db2c7840e287fac5b",
      "2ee43f14fa654a66ad0cfb559826f266",
      "e7e6388db19d47ceb06afc75fbb8486c",
      "922be25533bd448e9ce92614f7bd2677",
      "f63ee7f4234c45d48829e011f24eafde",
      "f8bcfb1381aa46d89034ea50e30b43cf",
      "00b164fb36864e53a8a73710d7d855cc",
      "64a0c4aa0bba4b6f8e8f5775a4341147",
      "2bcca7acc6f047d6ad4efbf1e5333c58",
      "052ec73371404595b7dec973dda308d4",
      "b12ba9f2111c44eeb5ae65820cc7d5d7",
      "15b9261bb07f4bbb95d276b92feabade",
      "5ffb0b594f51466284af380fd4d47b40",
      "fc994e0c5ced45c78c0b9bb6f19c073f",
      "c58471c60519419e9cdb3c7ff174d702",
      "0e7ed203dde24ec9a8d0f9c95a8877fd",
      "e64cfd87330d4b238596da66db63d984",
      "c13aff2b064743be941b4672550e56c9",
      "ef5fba5f330748faa9bd583d637087a6",
      "daabde9b4b764797af6b96370e40c1d2",
      "7d37b6f0ba8b4c5eb875635b98778d26",
      "a9a67e81e91e46e19b23f58dea634525",
      "2045ffddb5c4407f9235d1bf472e9ba5",
      "2df0c4cc59044ec8a59aadf2d5d2a9c9",
      "3095817ccc8f4ec6bae9b0c201d8e40a",
      "93205e664daa4921959605eb99dfa9cc",
      "9eab400a02dc46269e2537db44a78625",
      "415ddcb74bc2467fa9399039b7d0cafb",
      "b2fc825e7e6949e0a18f491ff261ac2b",
      "df6e6c84cc1c4c7b8cf5f8555eb42166",
      "547eb1582628438c9f0ef01554dfcdb4",
      "40b532d4d85740a2a16251bb321f489a",
      "ef897646c62444929b91935d3917b14d",
      "3bd05fe4e6bd4ea2b7bfcfba705369c5",
      "27e36e7f92d7417bb221fa95406cfb2f",
      "21318da3ae0644c28ec63983a34bd2ee",
      "c428c0bd915d455986b3193e9636ea80",
      "01ef4b60c3144e17afffb86281466bab",
      "3494ef9884224fa9a0a65999d7fc2945",
      "7185b40a7fa74088ad7ff6efb524e6b5",
      "cc6672c78dac468d9264efd90902c87d",
      "7ad056a7d71847d498f270ecac5cbf62",
      "309bad22d08c47af8d51942da599328e"
     ]
    },
    "id": "0a046528-8d22-4f4e-a520-962026562939",
    "outputId": "85bfb6b1-557f-4d4d-be94-b0c7200150e2",
    "scrolled": true
   },
   "outputs": [],
   "source": [
    "from unstructured.partition.pdf import partition_pdf\n",
    "\n",
    "output_path = \"./content/\"\n",
    "file_path = \"p2.pdf\"\n",
    "\n",
    "# Reference: https://docs.unstructured.io/open-source/core-functionality/chunking\n",
    "chunks = partition_pdf(\n",
    "    filename=file_path,\n",
    "    infer_table_structure=True,  # extract tables\n",
    "    strategy=\"hi_res\",  # mandatory to infer tables\n",
    "    extract_image_block_types=[\n",
    "        \"Image\"\n",
    "    ],  # Add 'Table' to list to extract image of tables\n",
    "    # image_output_dir_path=output_path,   # if None, images and tables will saved in base64\n",
    "    extract_image_block_to_payload=True,  # if true, will extract base64 for API usage\n",
    "    chunking_strategy=\"by_title\",  # or 'basic'\n",
    "    # max_characters=4000,                  # defaults to 500\n",
    "    # combine_text_under_n_chars=1000,       # defaults to 0\n",
    "    # new_after_n_chars=2000,\n",
    "    # extract_images_in_pdf=True,          # deprecated\n",
    ")"
   ]
  },
  {
   "cell_type": "code",
   "execution_count": 3,
   "id": "038f6733",
   "metadata": {
    "id": "038f6733",
    "outputId": "9645206b-5b1d-45b5-ae1d-1883d78247f6"
   },
   "outputs": [
    {
     "data": {
      "text/plain": [
       "{\"<class 'unstructured.documents.elements.CompositeElement'>\",\n",
       " \"<class 'unstructured.documents.elements.Table'>\",\n",
       " \"<class 'unstructured.documents.elements.TableChunk'>\"}"
      ]
     },
     "execution_count": 3,
     "metadata": {},
     "output_type": "execute_result"
    }
   ],
   "source": [
    "# We get 2 types of elements from the partition_pdf function\n",
    "set([str(type(el)) for el in chunks])"
   ]
  },
  {
   "cell_type": "code",
   "execution_count": 4,
   "id": "3d1a5316",
   "metadata": {},
   "outputs": [
    {
     "data": {
      "text/plain": [
       "223"
      ]
     },
     "execution_count": 4,
     "metadata": {},
     "output_type": "execute_result"
    }
   ],
   "source": [
    "len(chunks)"
   ]
  },
  {
   "cell_type": "code",
   "execution_count": 5,
   "id": "cccca0db",
   "metadata": {
    "id": "cccca0db",
    "outputId": "46f33bf2-d1d8-4bef-a0bf-d903ae2179d3"
   },
   "outputs": [
    {
     "data": {
      "text/plain": [
       "[<unstructured.documents.elements.Image at 0x347ea4e00>,\n",
       " <unstructured.documents.elements.Image at 0x347ea6ab0>,\n",
       " <unstructured.documents.elements.Text at 0x104fdf290>,\n",
       " <unstructured.documents.elements.Title at 0x319909820>,\n",
       " <unstructured.documents.elements.Title at 0x31a05e000>,\n",
       " <unstructured.documents.elements.ListItem at 0x347b45c70>,\n",
       " <unstructured.documents.elements.Title at 0x31a05ffb0>,\n",
       " <unstructured.documents.elements.Text at 0x3445c2de0>,\n",
       " <unstructured.documents.elements.ListItem at 0x3479858e0>,\n",
       " <unstructured.documents.elements.Title at 0x319e6e990>,\n",
       " <unstructured.documents.elements.Text at 0x319f2eba0>,\n",
       " <unstructured.documents.elements.Title at 0x319f2d9d0>]"
      ]
     },
     "execution_count": 5,
     "metadata": {},
     "output_type": "execute_result"
    }
   ],
   "source": [
    "# Each CompositeElement containes a bunch of related elements.\n",
    "# This makes it easy to use these elements together in a RAG pipeline.\n",
    "\n",
    "chunks[0].metadata.orig_elements"
   ]
  },
  {
   "cell_type": "code",
   "execution_count": 6,
   "id": "b8766f03",
   "metadata": {
    "id": "b8766f03",
    "outputId": "8bd43211-e0a6-4d35-833e-ee7cb374c9b6"
   },
   "outputs": [
    {
     "data": {
      "text/plain": [
       "{'type': 'Image',\n",
       " 'element_id': 'da486b29-3667-436d-9281-4d13f7bb9415',\n",
       " 'text': 'Your Policy Number       :  Your Customer ID          :  0000000046362705  0000000082193055-01  What your policy covers?  •    Hospitalization Cover  •     Pre-Hospitalization of 30 days  •    Post hospitalization of 60 days ',\n",
       " 'metadata': {'detection_class_prob': 0.2803719639778137,\n",
       "  'coordinates': {'points': ((95.85321807861328, 1405.35400390625),\n",
       "    (95.85321807861328, 1627.3935546875),\n",
       "    (1188.888427734375, 1627.3935546875),\n",
       "    (1188.888427734375, 1405.35400390625)),\n",
       "   'system': 'PixelSpace',\n",
       "   'layout_width': 1653,\n",
       "   'layout_height': 2339},\n",
       "  'last_modified': '2024-12-11T15:36:22',\n",
       "  'filetype': 'PPM',\n",
       "  'languages': ['eng'],\n",
       "  'page_number': 1,\n",
       "  'image_base64': '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',\n",
       "  'image_mime_type': 'image/jpeg'}}"
      ]
     },
     "execution_count": 6,
     "metadata": {},
     "output_type": "execute_result"
    }
   ],
   "source": [
    "# This is what an extracted image looks like.\n",
    "# It contains the base64 representation only because we set the param extract_image_block_to_payload=True\n",
    "\n",
    "elements = chunks[3].metadata.orig_elements\n",
    "chunk_images = [el for el in elements if \"Image\" in str(type(el))]\n",
    "chunk_images[0].to_dict()"
   ]
  },
  {
   "cell_type": "markdown",
   "id": "26caebda",
   "metadata": {
    "id": "26caebda"
   },
   "source": [
    "<!-- ### Separate extracted elements into tables, text, and images -->"
   ]
  },
  {
   "cell_type": "code",
   "execution_count": 7,
   "id": "8326a750",
   "metadata": {
    "id": "8326a750"
   },
   "outputs": [],
   "source": [
    "# separate tables from texts\n",
    "tables = []\n",
    "texts = []\n",
    "\n",
    "for chunk in chunks:\n",
    "    if \"Table\" in str(type(chunk)):\n",
    "        tables.append(chunk)\n",
    "\n",
    "    if \"CompositeElement\" in str(type((chunk))):\n",
    "        texts.append(chunk)"
   ]
  },
  {
   "cell_type": "code",
   "execution_count": 8,
   "id": "df548e46",
   "metadata": {
    "id": "df548e46"
   },
   "outputs": [],
   "source": [
    "# Get the images from the CompositeElement objects\n",
    "def get_images_base64(chunks):\n",
    "    images_b64 = []\n",
    "    for chunk in chunks:\n",
    "        if \"CompositeElement\" in str(type(chunk)):\n",
    "            chunk_els = chunk.metadata.orig_elements\n",
    "            for el in chunk_els:\n",
    "                if \"Image\" in str(type(el)):\n",
    "                    images_b64.append(el.metadata.image_base64)\n",
    "    return images_b64\n",
    "\n",
    "\n",
    "images = get_images_base64(chunks)"
   ]
  },
  {
   "cell_type": "markdown",
   "id": "9582f462",
   "metadata": {
    "id": "9582f462"
   },
   "source": [
    "<!-- #### Check what the images look like -->"
   ]
  },
  {
   "cell_type": "code",
   "execution_count": 9,
   "id": "83158c36",
   "metadata": {
    "id": "83158c36",
    "outputId": "50ba7432-e879-4a64-e9f4-b47fdbeb0fbf"
   },
   "outputs": [],
   "source": [
    "import base64\n",
    "from IPython.display import Image, display\n",
    "\n",
    "\n",
    "def display_base64_image(base64_code):\n",
    "    # Decode the base64 string to binary\n",
    "    image_data = base64.b64decode(base64_code)\n",
    "    # Display the image\n",
    "    display(Image(data=image_data))\n",
    "\n",
    "\n",
    "# display_base64_image(images[0])"
   ]
  },
  {
   "cell_type": "markdown",
   "id": "0aa7f52f-bf5c-4ba4-af72-b2ccba59a4cf",
   "metadata": {
    "id": "0aa7f52f-bf5c-4ba4-af72-b2ccba59a4cf"
   },
   "source": [
    "<!-- ## Summarize the data\n",
    "\n",
    "Create a summary of each element extracted from the PDF. This summary will be vectorized and used in the retrieval process. -->"
   ]
  },
  {
   "cell_type": "markdown",
   "id": "8b55862c",
   "metadata": {
    "id": "8b55862c"
   },
   "source": [
    "<!-- ### Text and Table summaries\n",
    "\n",
    "We don't need a multimodal model to generate the summaries of the tables and the text. I will use open source models available on Groq. -->"
   ]
  },
  {
   "cell_type": "code",
   "execution_count": 10,
   "id": "08b3d2bc",
   "metadata": {
    "id": "08b3d2bc",
    "outputId": "5c39beb3-2a0c-44b8-c2b2-48a4e451282c"
   },
   "outputs": [],
   "source": [
    "# %pip install -Uq langchain-groq"
   ]
  },
  {
   "cell_type": "code",
   "execution_count": 48,
   "id": "523e6ed2-2132-4748-bdb7-db765f20648d",
   "metadata": {
    "id": "523e6ed2-2132-4748-bdb7-db765f20648d"
   },
   "outputs": [],
   "source": [
    "# from langchain_groq import ChatGroq\n",
    "from langchain_core.prompts import ChatPromptTemplate\n",
    "from langchain_core.output_parsers import StrOutputParser"
   ]
  },
  {
   "cell_type": "code",
   "execution_count": 12,
   "id": "22c22e3f-42fb-4a4a-a87a-89f10ba8ab99",
   "metadata": {
    "id": "22c22e3f-42fb-4a4a-a87a-89f10ba8ab99"
   },
   "outputs": [],
   "source": [
    "# # Prompt\n",
    "# prompt_text = \"\"\"\n",
    "# You are an assistant tasked with summarizing tables and text.\n",
    "# Give a concise summary of the table or text.\n",
    "\n",
    "# Respond only with the summary, no additionnal comment.\n",
    "# Do not start your message by saying \"Here is a summary\" or anything like that.\n",
    "# Just give the summary as it is.\n",
    "\n",
    "# Table or text chunk: {element}\n",
    "\n",
    "# \"\"\"\n",
    "# prompt = ChatPromptTemplate.from_template(prompt_text)\n",
    "\n",
    "# # Summary chain\n",
    "# model = ChatGroq(temperature=0.5, model=\"llama-3.1-8b-instant\")\n",
    "# summarize_chain = {\"element\": lambda x: x} | prompt | model | StrOutputParser()"
   ]
  },
  {
   "cell_type": "code",
   "execution_count": 13,
   "id": "f176b374-aef0-48f4-a104-fb26b1dd6922",
   "metadata": {
    "id": "f176b374-aef0-48f4-a104-fb26b1dd6922"
   },
   "outputs": [],
   "source": [
    "# Summarize text\n",
    "# text_summaries = summarize_chain.batch(texts, {\"max_concurrency\": 3})\n",
    "\n",
    "# Summarize tables\n",
    "# table_summaries = summarize_chain.batch(tables_html, {\"max_concurrency\": 3})"
   ]
  },
  {
   "cell_type": "code",
   "execution_count": 14,
   "id": "1d172ad2",
   "metadata": {
    "id": "1d172ad2",
    "outputId": "1ba65afb-c9cd-4503-c154-db7841dfc1d4"
   },
   "outputs": [],
   "source": [
    "# text_summaries"
   ]
  },
  {
   "cell_type": "markdown",
   "id": "b1feadda-8171-4aed-9a60-320a88dc9ee1",
   "metadata": {
    "id": "b1feadda-8171-4aed-9a60-320a88dc9ee1"
   },
   "source": [
    "<!-- ### Image summaries\n",
    "\n",
    "We will use gpt-4o-mini to produce the image summaries. -->"
   ]
  },
  {
   "cell_type": "code",
   "execution_count": 15,
   "id": "32c825e1",
   "metadata": {
    "id": "32c825e1",
    "outputId": "3ef8d057-2214-41e8-80e1-c5f902a01ac8"
   },
   "outputs": [],
   "source": [
    "# %pip install -Uq langchain_openai"
   ]
  },
  {
   "cell_type": "code",
   "execution_count": 16,
   "id": "9e6b1d97-4245-45ac-95ba-9bc1cfd10182",
   "metadata": {
    "id": "9e6b1d97-4245-45ac-95ba-9bc1cfd10182"
   },
   "outputs": [],
   "source": [
    "# from langchain_openai import ChatOpenAI\n",
    "\n",
    "# prompt_template = \"\"\"Describe the image in detail. For context,\n",
    "#                   the image is part of a research paper explaining the transformers\n",
    "#                   architecture. Be specific about graphs, such as bar plots.\"\"\"\n",
    "# messages = [\n",
    "#     (\n",
    "#         \"user\",\n",
    "#         [\n",
    "#             {\"type\": \"text\", \"text\": prompt_template},\n",
    "#             {\n",
    "#                 \"type\": \"image_url\",\n",
    "#                 \"image_url\": {\"url\": \"data:image/jpeg;base64,{image}\"},\n",
    "#             },\n",
    "#         ],\n",
    "#     )\n",
    "# ]\n",
    "\n",
    "# prompt = ChatPromptTemplate.from_messages(messages)\n",
    "\n",
    "# chain = prompt | ChatOpenAI(model=\"gpt-4o-mini\") | StrOutputParser()\n",
    "\n",
    "\n",
    "# image_summaries = chain.batch(images)"
   ]
  },
  {
   "cell_type": "code",
   "execution_count": 17,
   "id": "laF_8o1gzHT0",
   "metadata": {
    "colab": {
     "base_uri": "https://localhost:8080/"
    },
    "id": "laF_8o1gzHT0",
    "outputId": "f82547af-0885-4d78-9f50-940dd9e6551e"
   },
   "outputs": [],
   "source": [
    "# image_summaries"
   ]
  },
  {
   "cell_type": "code",
   "execution_count": 18,
   "id": "aHNDEd_2txQI",
   "metadata": {
    "colab": {
     "base_uri": "https://localhost:8080/",
     "height": 143
    },
    "id": "aHNDEd_2txQI",
    "outputId": "fbd7c64e-f463-4203-e1ca-f79c7426aaf6"
   },
   "outputs": [],
   "source": [
    "# print(image_summaries[1])"
   ]
  },
  {
   "cell_type": "markdown",
   "id": "67b030d4-2ac5-41b6-9245-fc3ba5771d87",
   "metadata": {
    "id": "67b030d4-2ac5-41b6-9245-fc3ba5771d87"
   },
   "source": [
    "<!-- ## Load data and summaries to vectorstore -->"
   ]
  },
  {
   "cell_type": "markdown",
   "id": "bb4d2379",
   "metadata": {
    "id": "bb4d2379"
   },
   "source": [
    "<!-- ### Create the vectorstore -->"
   ]
  },
  {
   "cell_type": "code",
   "execution_count": 20,
   "id": "76661df7",
   "metadata": {},
   "outputs": [],
   "source": [
    "import uuid\n",
    "\n",
    "import faiss\n",
    "from langchain.vectorstores import Chroma\n",
    "from langchain_huggingface import HuggingFaceEmbeddings\n",
    "from langchain.retrievers.multi_vector import MultiVectorRetriever\n",
    "from langchain.schema.document import Document\n",
    "from langchain.storage import InMemoryStore\n",
    "\n",
    "from langchain_community.docstore.in_memory import InMemoryDocstore\n",
    "from langchain.vectorstores import FAISS\n",
    "\n",
    "# The storage layer for the parent documents\n",
    "store = InMemoryDocstore()\n",
    "id_key = \"doc_id\"\n",
    "\n",
    "# Load Hugging Face embeddings (e.g., from sentence-transformers)\n",
    "embedding_model = \"sentence-transformers/all-MiniLM-L6-v2\"\n",
    "# \"sentence-transformers/all-mpnet-base-v2\"\n",
    "embeddings = HuggingFaceEmbeddings(model_name=embedding_model)\n",
    "\n",
    "index = faiss.IndexFlatL2(len(embeddings.embed_query(\"hello world\")))\n",
    "\n",
    "\n",
    "# The vectorstore to use FAISS for indexing\n",
    "vectorstore = FAISS(\n",
    "    embedding_function=embeddings,\n",
    "    index=index,\n",
    "    docstore=store,\n",
    "    index_to_docstore_id={},\n",
    ")\n",
    "# vectorstore = Chroma(collection_name=\"multi_modal_rag\", embedding_function=embeddings)\n",
    "\n",
    "\n",
    "# The retriever (empty to start)\n",
    "# retriever = MultiVectorRetriever(\n",
    "#     vectorstore=vectorstore,\n",
    "#     docstore=store,\n",
    "#     id_key=id_key,\n",
    "# )\n",
    "\n",
    "\n",
    "# # Example: Adding a document to the retriever\n",
    "# doc_id = str(uuid.uuid4())\n",
    "# document = Document(\n",
    "#     page_content=\"Example document content\", metadata={\"source\": \"example\"}\n",
    "# )\n",
    "# vectorstore.add_texts(\n",
    "#     [document.page_content], metadatas=[document.metadata], ids=[doc_id]\n",
    "# )\n",
    "# store.mset({doc_id: document})"
   ]
  },
  {
   "cell_type": "code",
   "execution_count": 21,
   "id": "9d8d7a34-69e0-49a2-b9f7-1a4e7b26d78f",
   "metadata": {
    "id": "9d8d7a34-69e0-49a2-b9f7-1a4e7b26d78f",
    "outputId": "c91d7a77-d820-446f-a751-15f5d4668e8f"
   },
   "outputs": [],
   "source": [
    "# import uuid\n",
    "# from langchain.vectorstores import Chroma\n",
    "# from langchain.storage import InMemoryStore\n",
    "# from langchain.schema.document import Document\n",
    "# from langchain.embeddings import OpenAIEmbeddings\n",
    "# from langchain.retrievers.multi_vector import MultiVectorRetriever\n",
    "\n",
    "# # The vectorstore to use to index the child chunks\n",
    "# vectorstore = Chroma(collection_name=\"multi_modal_rag\", embedding_function=OpenAIEmbeddings())\n",
    "\n",
    "# # The storage layer for the parent documents\n",
    "# store = InMemoryStore()\n",
    "# id_key = \"doc_id\"\n",
    "\n",
    "# # The retriever (empty to start)\n",
    "# retriever = MultiVectorRetriever(\n",
    "#     vectorstore=vectorstore,\n",
    "#     docstore=store,\n",
    "#     id_key=id_key,\n",
    "# )"
   ]
  },
  {
   "cell_type": "markdown",
   "id": "2bf26669",
   "metadata": {
    "id": "2bf26669"
   },
   "source": [
    "<!-- ### Load the summaries and link the to the original data -->"
   ]
  },
  {
   "cell_type": "code",
   "execution_count": 22,
   "id": "241da583",
   "metadata": {},
   "outputs": [],
   "source": [
    "text_doc_ids = [str(uuid.uuid4()) for _ in texts]\n",
    "\n",
    "text_documents = [\n",
    "    Document(page_content=summary.text, metadata={id_key: text_doc_ids[i]})\n",
    "    for i, summary in enumerate(texts)\n",
    "]\n",
    "\n",
    "\n",
    "tables_html = [table.metadata.text_as_html for table in tables]\n",
    "table_doc_ids = [str(uuid.uuid4()) for _ in tables_html]\n",
    "table_documents = [\n",
    "    Document(page_content=summary, metadata={id_key: table_doc_ids[i]})\n",
    "    for i, summary in enumerate(tables_html)\n",
    "]"
   ]
  },
  {
   "cell_type": "code",
   "execution_count": 23,
   "id": "fc3bebf8",
   "metadata": {},
   "outputs": [
    {
     "data": {
      "text/plain": [
       "['<table><tr><td>Proposer Name</td><td>SAMBIT KUMAR</td><td>PATRA</td></tr><tr><td>Address</td><td>SAMBIT Odisha - 754029, India.</td><td>PATRA,RAMPEL,,Arakhapatna,Cuttack, Cuttack,</td></tr><tr><td>Period of Insurance</td><td>From: 11/11/2023</td><td>(00:00)Hrs To: Midnight of 10/11/2024</td></tr><tr><td>PAN No.</td></tr><tr><td>Premium Frequency</td><td>Yearly</td><td/></tr><tr><td>Date of inception first insurance policy</td><td>11/11/2021</td><td/></tr><tr><td>Cover Opted</td><td>Family Floater</td><td/></tr><tr><td>Previous Policy No. (if any)</td><td>POASANO0100022634</td><td/></tr><tr><td>Nominee (Name, Age &amp; Relationship)</td><td>LOPAMUDRA BASTIA_</td><td>,28</td></tr><tr><td>Nominee (Name, Age &amp; Relationship)</td><td>LOPAMUDRA BASTIA_</td><td>,28</td></tr></table>',\n",
       " '<table><tr><td>Nominee (Name, Age &amp; Relationship)</td><td>LOPAMUDRA BASTIA</td><td>,28</td></tr><tr><td>Appointee (Name &amp; Relationship), if any</td></tr><tr><td>Appointee (Name &amp; Relationship), if any</td><td/><td/></tr></table>',\n",
       " '<table><tr><td>GST Invoice No:</td><td>94416700</td><td>GST Invoice Date:</td><td>01/11/2023</td></tr><tr><td>GST No. (SBI General)</td><td>27AAMCS8857L1ZC</td><td/><td>SBI General State</td><td/><td>Maharashtra</td></tr><tr><td>SBI General Address:</td><td>Branch</td><td>SBI General Insurance Company 9th Floor ,A&amp;B Wing, Fulcrum 400099,1000000108,</td><td>Limited Building,Sahar Road, Andheri</td><td>East, Mumbai,Mumbai ,Maharashtra -</td></tr><tr><td>Details of Policy Holder:</td></tr><tr><td>Name:</td><td/><td>-SAMBIT KUMAR PATRA</td><td/></tr><tr><td>Address:</td><td>RAMPEI, ,Cuttack , Cuttack, Odisha</td><td>-754029 ,</td><td>India .</td></tr><tr><td>Policy Holder</td><td/><td>Odisha</td><td/><td>Place</td><td>of Supply:</td><td/><td>Odisha</td></tr></table>',\n",
       " '<table><tr><td>State</td><td>Whether Invoice Reverse Charge:</td><td>under</td><td>No</td></tr><tr><td>GST No./ISD</td><td>No.</td><td/><td/><td/><td>Policy Number</td><td>0000000082193055-01</td></tr><tr><td>Insurance Product Name</td><td>| HSN Code |</td><td>Premium</td><td/><td>KFC</td><td>CGST</td><td>SGST/ UTGST</td><td>IGST</td></tr><tr><td>(without Taxes)</td><td>Rate</td><td>Amount</td><td>Rate</td><td>Amount</td><td>Rate</td><td>Amount</td><td>Rate</td><td>Amount</td></tr><tr><td>Arogya | Sanjeevani</td><td>997133 |</td><td>3,882.02</td><td>1%</td><td>0.00</td><td>0%</td><td>0.00</td><td>0%</td><td>0.00</td><td>18%</td><td>698.76</td></tr></table>',\n",
       " '<table><tr><td>S.No</td><td>Type of Claim</td><td>Prescribed Time limit</td></tr><tr><td>1</td><td>Reimbursement of hospitalization, day care and prehospitalization expenses</td><td>Within thirty days of date of discharge from hospital</td></tr><tr><td>2</td><td>Reimbursement of post hospitalization | expenses</td><td>Within fifteen days from completion of post hospitalization treatment</td></tr></table>',\n",
       " '<table><tr><td>Product</td><td>Family Floater</td></tr><tr><td>Category of Cover</td><td>Indemnity</td></tr><tr><td>Sum insured</td><td>INR On Individual basis — SI shall apply to each individual family member On Floater basis — SI shall apply to the entire family</td></tr><tr><td>Policy Period</td><td>1 Year</td></tr></table>',\n",
       " '<table><tr><td>Eligibility</td></tr></table>',\n",
       " '<table><tr><td>Policy can be availed by persons between the age of 18 years and 65years, as Proposer. Proposer with higher age can obtain policy for family, without covering self. Policy can be availed for Self and the following family members i. legally wedded spouse. ii. Parents and Parents-in-law iii. Dependent Children (i.e. natural or legally adopted) between the age 3 months to 25 years. If the child above 18 years of age is financially independent, he or she shall be</td></tr></table>',\n",
       " '<table><tr><td>ineligible for coverage in the subsequent renewals</td></tr></table>',\n",
       " '<table><tr><td>Grace Period</td><td>For Yearly payment of mode, a fixed period of 30 days is to be allowed as Grace Period and for all other modes of payment a fixed period of 15 days be allowed as grace period. of for of hours</td></tr><tr><td>Hospitalisation</td><td>Expenses Hospitalization a minimum period 24 consecutive only shall be admissible</td></tr><tr><td>Expenses</td><td>Time limit of 24 hrs shall not apply when the treatment is undergone in a Day Care Centre.</td></tr><tr><td>Pre Hospitalization</td><td>For 30 days prior to the date of hospitalization</td></tr></table>',\n",
       " '<table><tr><td>Post Hospitalization</td><td>For 60 days from the date of discharge from the hospital</td></tr><tr><td>1. Room Rent, Boarding, Nursing Expenses all-inclusive as provided by the Hospital / Rs.5000/-</td></tr></table>']"
      ]
     },
     "execution_count": 23,
     "metadata": {},
     "output_type": "execute_result"
    }
   ],
   "source": [
    "tables_html"
   ]
  },
  {
   "cell_type": "code",
   "execution_count": 24,
   "id": "06810ea5",
   "metadata": {},
   "outputs": [
    {
     "data": {
      "text/plain": [
       "['c9c485cc-feab-41f5-8f47-abf0ad363a94',\n",
       " '25384c2c-1930-4cde-9038-7ed9ef1a5790',\n",
       " 'a0a17b13-9086-4e4e-9fd3-14a5a0e00422',\n",
       " '5189fbf0-adc9-4d97-aaf2-e9d5d1863414',\n",
       " '827bd38c-0e62-4a59-80a7-459d7c4c1a81',\n",
       " 'f309334a-74a7-4150-afa8-2723fe6a9aca',\n",
       " '640029de-5d2c-4839-8eee-ea1c35038d0d',\n",
       " '9069a951-8f25-48e6-80a2-409bae5c915e',\n",
       " 'acc82990-0b2e-4367-99d3-960c1abfcb55',\n",
       " 'd883f6e3-62cc-4906-9953-63b96ea127fd',\n",
       " '419e6ad5-bfc5-4c5b-9af0-78c002cdf8fe']"
      ]
     },
     "execution_count": 24,
     "metadata": {},
     "output_type": "execute_result"
    }
   ],
   "source": [
    "retriever = vectorstore.as_retriever(search_type=\"mmr\", search_kwargs={\"k\": 1})\n",
    "retriever.vectorstore.add_documents(documents=text_documents, ids=text_doc_ids)\n",
    "retriever.vectorstore.add_documents(documents=table_documents, ids=table_doc_ids)\n",
    "# retriever.vectorstore.add_documents(summary_tables)"
   ]
  },
  {
   "cell_type": "code",
   "execution_count": 100,
   "id": "7dd1f103",
   "metadata": {},
   "outputs": [],
   "source": []
  },
  {
   "cell_type": "code",
   "execution_count": 25,
   "id": "48866fcd",
   "metadata": {},
   "outputs": [],
   "source": [
    "# retriever.invoke(\"TABLE OF BENEFITS\")"
   ]
  },
  {
   "cell_type": "code",
   "execution_count": 26,
   "id": "1792e683",
   "metadata": {
    "id": "1792e683"
   },
   "outputs": [],
   "source": [
    "# retriever.docstore.mset(list(zip(table_ids, tables)))\n",
    "\n",
    "# # Add image summaries\n",
    "# img_ids = [str(uuid.uuid4()) for _ in images]\n",
    "# summary_img = [\n",
    "#     Document(page_content=summary, metadata={id_key: img_ids[i]}) for i, summary in enumerate(image_summaries)\n",
    "# ]\n",
    "# retriever.vectorstore.add_documents(summary_img)\n",
    "# retriever.docstore.mset(list(zip(img_ids, images)))"
   ]
  },
  {
   "cell_type": "markdown",
   "id": "4b45fb81-46b1-426e-aa2c-01aed4eac700",
   "metadata": {
    "id": "4b45fb81-46b1-426e-aa2c-01aed4eac700"
   },
   "source": [
    "<!-- ### Check retrieval -->"
   ]
  },
  {
   "cell_type": "code",
   "execution_count": 27,
   "id": "1bea75fe-85af-4955-a80c-6e0b44a8e215",
   "metadata": {
    "id": "1bea75fe-85af-4955-a80c-6e0b44a8e215"
   },
   "outputs": [],
   "source": [
    "# # Retrieve\n",
    "# docs = retriever.invoke(\n",
    "#     \"who are the authors of the paper?\"\n",
    "# )"
   ]
  },
  {
   "cell_type": "code",
   "execution_count": 28,
   "id": "a0290c78",
   "metadata": {
    "id": "a0290c78",
    "outputId": "d19cdecf-c9e6-4b40-f996-06041a7f0ee4"
   },
   "outputs": [],
   "source": [
    "# for doc in docs:\n",
    "#     print(str(doc) + \"\\n\\n\" + \"-\" * 80)"
   ]
  },
  {
   "cell_type": "markdown",
   "id": "69060724-e390-4dda-8250-5f86025c874a",
   "metadata": {
    "id": "69060724-e390-4dda-8250-5f86025c874a"
   },
   "source": [
    "<!-- ## RAG pipeline -->"
   ]
  },
  {
   "cell_type": "code",
   "execution_count": 30,
   "id": "36e1f5e4",
   "metadata": {},
   "outputs": [
    {
     "data": {
      "application/vnd.jupyter.widget-view+json": {
       "model_id": "ee44ba41478d472faa80777e75a53088",
       "version_major": 2,
       "version_minor": 0
      },
      "text/plain": [
       "Loading checkpoint shards:   0%|          | 0/2 [00:00<?, ?it/s]"
      ]
     },
     "metadata": {},
     "output_type": "display_data"
    },
    {
     "name": "stderr",
     "output_type": "stream",
     "text": [
      "Device set to use cpu\n"
     ]
    }
   ],
   "source": [
    "from langchain_huggingface import HuggingFacePipeline\n",
    "from transformers import pipeline\n",
    "\n",
    "def initialize_llm(\n",
    "    model_id=\"google/gemma-1.1-2b-it\",\n",
    "    pipeline_kwargs={\n",
    "        \"max_new_tokens\": 100,\n",
    "        \"top_k\": 50,\n",
    "        \"temperature\": 0.5,\n",
    "        \"do_sample\": True,\n",
    "        \"device\": \"cpu\",\n",
    "    },\n",
    "):\n",
    "    \"\"\"Initializes Hugging Face LLM pipeline.\"\"\"\n",
    "    hf_pipeline = pipeline(task=\"text-generation\", model=model_id, **pipeline_kwargs)\n",
    "    return HuggingFacePipeline(pipeline=hf_pipeline)\n",
    "\n",
    "llm = initialize_llm()"
   ]
  },
  {
   "cell_type": "code",
   "execution_count": 31,
   "id": "3a585805",
   "metadata": {},
   "outputs": [],
   "source": [
    "from langchain_huggingface import ChatHuggingFace\n",
    "\n",
    "\n",
    "def chat_bot_llm(llm):\n",
    "    chat_model = ChatHuggingFace(llm=llm)\n",
    "    return chat_model\n",
    "\n",
    "chat_llm = chat_bot_llm(llm=llm)"
   ]
  },
  {
   "cell_type": "code",
   "execution_count": 43,
   "id": "771a47fa-1267-4db8-a6ae-5fde48bbc069",
   "metadata": {
    "id": "771a47fa-1267-4db8-a6ae-5fde48bbc069"
   },
   "outputs": [],
   "source": [
    "from langchain_core.runnables import RunnablePassthrough, RunnableLambda\n",
    "\n",
    "from langchain_core.messages import SystemMessage, HumanMessage\n",
    "\n",
    "from base64 import b64decode\n",
    "\n",
    "\n",
    "def parse_docs(docs):\n",
    "    \"\"\"Split base64-encoded images and texts\"\"\"\n",
    "    b64 = []\n",
    "    text = []\n",
    "    for doc in docs:\n",
    "        try:\n",
    "            b64decode(doc)\n",
    "            b64.append(doc)\n",
    "        except Exception as e:\n",
    "            text.append(doc)\n",
    "    return {\"images\": b64, \"texts\": text}\n",
    "\n",
    "\n",
    "def build_prompt(kwargs):\n",
    "\n",
    "    docs_by_type = kwargs[\"context\"]\n",
    "    user_question = kwargs[\"question\"]\n",
    "\n",
    "    context_text = \"\"\n",
    "    if len(docs_by_type[\"texts\"]) > 0:\n",
    "        for text_element in docs_by_type[\"texts\"]:\n",
    "            context_text += text_element.page_content\n",
    "\n",
    "    # construct prompt with context (including images)\n",
    "    prompt_template = f\"\"\"\n",
    "    Answer the question based only on the following context, which can include text, tables.\n",
    "    Context: {context_text}\n",
    "    Question: {user_question}\n",
    "    \"\"\"\n",
    "\n",
    "    prompt_content = [{\"type\": \"text\", \"text\": prompt_template}]\n",
    "\n",
    "    # if len(docs_by_type[\"images\"]) > 0:\n",
    "    #     for image in docs_by_type[\"images\"]:\n",
    "    #         prompt_content.append(\n",
    "    #             {\n",
    "    #                 \"type\": \"image_url\",\n",
    "    #                 \"image_url\": {\"url\": f\"data:image/jpeg;base64,{image}\"},\n",
    "    #             }\n",
    "    #         )\n",
    "\n",
    "    return ChatPromptTemplate.from_messages(\n",
    "        [\n",
    "            HumanMessage(content=prompt_content),\n",
    "        ]\n",
    "    )\n",
    "\n",
    "\n",
    "chain = (\n",
    "    {\n",
    "        \"context\": retriever | RunnableLambda(parse_docs),\n",
    "        \"question\": RunnablePassthrough(),\n",
    "    }\n",
    "    | RunnableLambda(build_prompt)\n",
    "    | chat_llm\n",
    "    | StrOutputParser()\n",
    ")\n",
    "\n",
    "chain_with_sources = {\n",
    "    \"context\": retriever | RunnableLambda(parse_docs),\n",
    "    \"question\": RunnablePassthrough(),\n",
    "} | RunnablePassthrough().assign(\n",
    "    response=(RunnableLambda(build_prompt) | llm | StrOutputParser())\n",
    ")"
   ]
  },
  {
   "cell_type": "code",
   "execution_count": 44,
   "id": "2e1b66e1",
   "metadata": {},
   "outputs": [],
   "source": [
    "question = \"What is the list of insured members?\""
   ]
  },
  {
   "cell_type": "code",
   "execution_count": 45,
   "id": "cb069e37",
   "metadata": {},
   "outputs": [],
   "source": [
    "docs = retriever.invoke(question)"
   ]
  },
  {
   "cell_type": "code",
   "execution_count": 46,
   "id": "a837c83a",
   "metadata": {},
   "outputs": [],
   "source": [
    "context = parse_docs(docs)\n"
   ]
  },
  {
   "cell_type": "code",
   "execution_count": 53,
   "id": "d6239370",
   "metadata": {},
   "outputs": [
    {
     "name": "stdout",
     "output_type": "stream",
     "text": [
      "input_variables=[] input_types={} partial_variables={} messages=[HumanMessage(content=[{'type': 'text', 'text': '\\n    Answer the question based only on the following context, which can include text, tables.\\n    Context: 4. COVERAGE\\n\\nThe covers listed below are in-built Policy benefits and shall be available to all Insured Persons in accordance with the procedures set out in this Policy.\\n    Question: What is the list of insured members?\\n    '}], additional_kwargs={}, response_metadata={})]\n"
     ]
    }
   ],
   "source": [
    "prompt = build_prompt({\"context\": context, \"question\": question})\n",
    "print(prompt)"
   ]
  },
  {
   "cell_type": "code",
   "execution_count": null,
   "id": "e1f02e85",
   "metadata": {},
   "outputs": [],
   "source": [
    "llm_res = chat_llm(prompt.messages)\n",
    "llm_res"
   ]
  },
  {
   "cell_type": "code",
   "execution_count": null,
   "id": "c9ae42c8",
   "metadata": {},
   "outputs": [],
   "source": []
  },
  {
   "cell_type": "code",
   "execution_count": 33,
   "id": "ea8414a8-65ee-4e11-8154-029b454f46af",
   "metadata": {
    "colab": {
     "base_uri": "https://localhost:8080/",
     "height": 180
    },
    "id": "ea8414a8-65ee-4e11-8154-029b454f46af",
    "outputId": "2edf5f7e-9165-46ef-e710-cc945b78b230"
   },
   "outputs": [
    {
     "ename": "AttributeError",
     "evalue": "'Document' object has no attribute 'text'",
     "output_type": "error",
     "traceback": [
      "\u001b[0;31m---------------------------------------------------------------------------\u001b[0m",
      "\u001b[0;31mAttributeError\u001b[0m                            Traceback (most recent call last)",
      "Cell \u001b[0;32mIn[33], line 1\u001b[0m\n\u001b[0;32m----> 1\u001b[0m response \u001b[38;5;241m=\u001b[39m \u001b[43mchain\u001b[49m\u001b[38;5;241;43m.\u001b[39;49m\u001b[43minvoke\u001b[49m\u001b[43m(\u001b[49m\u001b[38;5;124;43m\"\u001b[39;49m\u001b[38;5;124;43mList of insured members\u001b[39;49m\u001b[38;5;124;43m\"\u001b[39;49m\u001b[43m)\u001b[49m\n\u001b[1;32m      3\u001b[0m \u001b[38;5;28mprint\u001b[39m(response)\n\u001b[1;32m      4\u001b[0m \u001b[38;5;28mprint\u001b[39m(response[\u001b[38;5;124m\"\u001b[39m\u001b[38;5;124mresponse\u001b[39m\u001b[38;5;124m\"\u001b[39m])\n",
      "File \u001b[0;32m~/.virtualenvs/chatwithpdf/lib/python3.12/site-packages/langchain_core/runnables/base.py:3024\u001b[0m, in \u001b[0;36mRunnableSequence.invoke\u001b[0;34m(self, input, config, **kwargs)\u001b[0m\n\u001b[1;32m   3022\u001b[0m             \u001b[38;5;28minput\u001b[39m \u001b[38;5;241m=\u001b[39m context\u001b[38;5;241m.\u001b[39mrun(step\u001b[38;5;241m.\u001b[39minvoke, \u001b[38;5;28minput\u001b[39m, config, \u001b[38;5;241m*\u001b[39m\u001b[38;5;241m*\u001b[39mkwargs)\n\u001b[1;32m   3023\u001b[0m         \u001b[38;5;28;01melse\u001b[39;00m:\n\u001b[0;32m-> 3024\u001b[0m             \u001b[38;5;28minput\u001b[39m \u001b[38;5;241m=\u001b[39m \u001b[43mcontext\u001b[49m\u001b[38;5;241;43m.\u001b[39;49m\u001b[43mrun\u001b[49m\u001b[43m(\u001b[49m\u001b[43mstep\u001b[49m\u001b[38;5;241;43m.\u001b[39;49m\u001b[43minvoke\u001b[49m\u001b[43m,\u001b[49m\u001b[43m \u001b[49m\u001b[38;5;28;43minput\u001b[39;49m\u001b[43m,\u001b[49m\u001b[43m \u001b[49m\u001b[43mconfig\u001b[49m\u001b[43m)\u001b[49m\n\u001b[1;32m   3025\u001b[0m \u001b[38;5;66;03m# finish the root run\u001b[39;00m\n\u001b[1;32m   3026\u001b[0m \u001b[38;5;28;01mexcept\u001b[39;00m \u001b[38;5;167;01mBaseException\u001b[39;00m \u001b[38;5;28;01mas\u001b[39;00m e:\n",
      "File \u001b[0;32m~/.virtualenvs/chatwithpdf/lib/python3.12/site-packages/langchain_core/runnables/base.py:4713\u001b[0m, in \u001b[0;36mRunnableLambda.invoke\u001b[0;34m(self, input, config, **kwargs)\u001b[0m\n\u001b[1;32m   4699\u001b[0m \u001b[38;5;250m\u001b[39m\u001b[38;5;124;03m\"\"\"Invoke this Runnable synchronously.\u001b[39;00m\n\u001b[1;32m   4700\u001b[0m \n\u001b[1;32m   4701\u001b[0m \u001b[38;5;124;03mArgs:\u001b[39;00m\n\u001b[0;32m   (...)\u001b[0m\n\u001b[1;32m   4710\u001b[0m \u001b[38;5;124;03m    TypeError: If the Runnable is a coroutine function.\u001b[39;00m\n\u001b[1;32m   4711\u001b[0m \u001b[38;5;124;03m\"\"\"\u001b[39;00m\n\u001b[1;32m   4712\u001b[0m \u001b[38;5;28;01mif\u001b[39;00m \u001b[38;5;28mhasattr\u001b[39m(\u001b[38;5;28mself\u001b[39m, \u001b[38;5;124m\"\u001b[39m\u001b[38;5;124mfunc\u001b[39m\u001b[38;5;124m\"\u001b[39m):\n\u001b[0;32m-> 4713\u001b[0m     \u001b[38;5;28;01mreturn\u001b[39;00m \u001b[38;5;28;43mself\u001b[39;49m\u001b[38;5;241;43m.\u001b[39;49m\u001b[43m_call_with_config\u001b[49m\u001b[43m(\u001b[49m\n\u001b[1;32m   4714\u001b[0m \u001b[43m        \u001b[49m\u001b[38;5;28;43mself\u001b[39;49m\u001b[38;5;241;43m.\u001b[39;49m\u001b[43m_invoke\u001b[49m\u001b[43m,\u001b[49m\n\u001b[1;32m   4715\u001b[0m \u001b[43m        \u001b[49m\u001b[38;5;28;43minput\u001b[39;49m\u001b[43m,\u001b[49m\n\u001b[1;32m   4716\u001b[0m \u001b[43m        \u001b[49m\u001b[38;5;28;43mself\u001b[39;49m\u001b[38;5;241;43m.\u001b[39;49m\u001b[43m_config\u001b[49m\u001b[43m(\u001b[49m\u001b[43mconfig\u001b[49m\u001b[43m,\u001b[49m\u001b[43m \u001b[49m\u001b[38;5;28;43mself\u001b[39;49m\u001b[38;5;241;43m.\u001b[39;49m\u001b[43mfunc\u001b[49m\u001b[43m)\u001b[49m\u001b[43m,\u001b[49m\n\u001b[1;32m   4717\u001b[0m \u001b[43m        \u001b[49m\u001b[38;5;241;43m*\u001b[39;49m\u001b[38;5;241;43m*\u001b[39;49m\u001b[43mkwargs\u001b[49m\u001b[43m,\u001b[49m\n\u001b[1;32m   4718\u001b[0m \u001b[43m    \u001b[49m\u001b[43m)\u001b[49m\n\u001b[1;32m   4719\u001b[0m \u001b[38;5;28;01melse\u001b[39;00m:\n\u001b[1;32m   4720\u001b[0m     msg \u001b[38;5;241m=\u001b[39m (\n\u001b[1;32m   4721\u001b[0m         \u001b[38;5;124m\"\u001b[39m\u001b[38;5;124mCannot invoke a coroutine function synchronously.\u001b[39m\u001b[38;5;124m\"\u001b[39m\n\u001b[1;32m   4722\u001b[0m         \u001b[38;5;124m\"\u001b[39m\u001b[38;5;124mUse `ainvoke` instead.\u001b[39m\u001b[38;5;124m\"\u001b[39m\n\u001b[1;32m   4723\u001b[0m     )\n",
      "File \u001b[0;32m~/.virtualenvs/chatwithpdf/lib/python3.12/site-packages/langchain_core/runnables/base.py:1927\u001b[0m, in \u001b[0;36mRunnable._call_with_config\u001b[0;34m(self, func, input, config, run_type, serialized, **kwargs)\u001b[0m\n\u001b[1;32m   1923\u001b[0m     context \u001b[38;5;241m=\u001b[39m copy_context()\n\u001b[1;32m   1924\u001b[0m     context\u001b[38;5;241m.\u001b[39mrun(_set_config_context, child_config)\n\u001b[1;32m   1925\u001b[0m     output \u001b[38;5;241m=\u001b[39m cast(\n\u001b[1;32m   1926\u001b[0m         Output,\n\u001b[0;32m-> 1927\u001b[0m         \u001b[43mcontext\u001b[49m\u001b[38;5;241;43m.\u001b[39;49m\u001b[43mrun\u001b[49m\u001b[43m(\u001b[49m\n\u001b[1;32m   1928\u001b[0m \u001b[43m            \u001b[49m\u001b[43mcall_func_with_variable_args\u001b[49m\u001b[43m,\u001b[49m\u001b[43m  \u001b[49m\u001b[38;5;66;43;03m# type: ignore[arg-type]\u001b[39;49;00m\n\u001b[1;32m   1929\u001b[0m \u001b[43m            \u001b[49m\u001b[43mfunc\u001b[49m\u001b[43m,\u001b[49m\u001b[43m  \u001b[49m\u001b[38;5;66;43;03m# type: ignore[arg-type]\u001b[39;49;00m\n\u001b[1;32m   1930\u001b[0m \u001b[43m            \u001b[49m\u001b[38;5;28;43minput\u001b[39;49m\u001b[43m,\u001b[49m\u001b[43m  \u001b[49m\u001b[38;5;66;43;03m# type: ignore[arg-type]\u001b[39;49;00m\n\u001b[1;32m   1931\u001b[0m \u001b[43m            \u001b[49m\u001b[43mconfig\u001b[49m\u001b[43m,\u001b[49m\n\u001b[1;32m   1932\u001b[0m \u001b[43m            \u001b[49m\u001b[43mrun_manager\u001b[49m\u001b[43m,\u001b[49m\n\u001b[1;32m   1933\u001b[0m \u001b[43m            \u001b[49m\u001b[38;5;241;43m*\u001b[39;49m\u001b[38;5;241;43m*\u001b[39;49m\u001b[43mkwargs\u001b[49m\u001b[43m,\u001b[49m\n\u001b[1;32m   1934\u001b[0m \u001b[43m        \u001b[49m\u001b[43m)\u001b[49m,\n\u001b[1;32m   1935\u001b[0m     )\n\u001b[1;32m   1936\u001b[0m \u001b[38;5;28;01mexcept\u001b[39;00m \u001b[38;5;167;01mBaseException\u001b[39;00m \u001b[38;5;28;01mas\u001b[39;00m e:\n\u001b[1;32m   1937\u001b[0m     run_manager\u001b[38;5;241m.\u001b[39mon_chain_error(e)\n",
      "File \u001b[0;32m~/.virtualenvs/chatwithpdf/lib/python3.12/site-packages/langchain_core/runnables/config.py:396\u001b[0m, in \u001b[0;36mcall_func_with_variable_args\u001b[0;34m(func, input, config, run_manager, **kwargs)\u001b[0m\n\u001b[1;32m    394\u001b[0m \u001b[38;5;28;01mif\u001b[39;00m run_manager \u001b[38;5;129;01mis\u001b[39;00m \u001b[38;5;129;01mnot\u001b[39;00m \u001b[38;5;28;01mNone\u001b[39;00m \u001b[38;5;129;01mand\u001b[39;00m accepts_run_manager(func):\n\u001b[1;32m    395\u001b[0m     kwargs[\u001b[38;5;124m\"\u001b[39m\u001b[38;5;124mrun_manager\u001b[39m\u001b[38;5;124m\"\u001b[39m] \u001b[38;5;241m=\u001b[39m run_manager\n\u001b[0;32m--> 396\u001b[0m \u001b[38;5;28;01mreturn\u001b[39;00m \u001b[43mfunc\u001b[49m\u001b[43m(\u001b[49m\u001b[38;5;28;43minput\u001b[39;49m\u001b[43m,\u001b[49m\u001b[43m \u001b[49m\u001b[38;5;241;43m*\u001b[39;49m\u001b[38;5;241;43m*\u001b[39;49m\u001b[43mkwargs\u001b[49m\u001b[43m)\u001b[49m\n",
      "File \u001b[0;32m~/.virtualenvs/chatwithpdf/lib/python3.12/site-packages/langchain_core/runnables/base.py:4567\u001b[0m, in \u001b[0;36mRunnableLambda._invoke\u001b[0;34m(self, input, run_manager, config, **kwargs)\u001b[0m\n\u001b[1;32m   4565\u001b[0m                 output \u001b[38;5;241m=\u001b[39m chunk\n\u001b[1;32m   4566\u001b[0m \u001b[38;5;28;01melse\u001b[39;00m:\n\u001b[0;32m-> 4567\u001b[0m     output \u001b[38;5;241m=\u001b[39m \u001b[43mcall_func_with_variable_args\u001b[49m\u001b[43m(\u001b[49m\n\u001b[1;32m   4568\u001b[0m \u001b[43m        \u001b[49m\u001b[38;5;28;43mself\u001b[39;49m\u001b[38;5;241;43m.\u001b[39;49m\u001b[43mfunc\u001b[49m\u001b[43m,\u001b[49m\u001b[43m \u001b[49m\u001b[38;5;28;43minput\u001b[39;49m\u001b[43m,\u001b[49m\u001b[43m \u001b[49m\u001b[43mconfig\u001b[49m\u001b[43m,\u001b[49m\u001b[43m \u001b[49m\u001b[43mrun_manager\u001b[49m\u001b[43m,\u001b[49m\u001b[43m \u001b[49m\u001b[38;5;241;43m*\u001b[39;49m\u001b[38;5;241;43m*\u001b[39;49m\u001b[43mkwargs\u001b[49m\n\u001b[1;32m   4569\u001b[0m \u001b[43m    \u001b[49m\u001b[43m)\u001b[49m\n\u001b[1;32m   4570\u001b[0m \u001b[38;5;66;03m# If the output is a Runnable, invoke it\u001b[39;00m\n\u001b[1;32m   4571\u001b[0m \u001b[38;5;28;01mif\u001b[39;00m \u001b[38;5;28misinstance\u001b[39m(output, Runnable):\n",
      "File \u001b[0;32m~/.virtualenvs/chatwithpdf/lib/python3.12/site-packages/langchain_core/runnables/config.py:396\u001b[0m, in \u001b[0;36mcall_func_with_variable_args\u001b[0;34m(func, input, config, run_manager, **kwargs)\u001b[0m\n\u001b[1;32m    394\u001b[0m \u001b[38;5;28;01mif\u001b[39;00m run_manager \u001b[38;5;129;01mis\u001b[39;00m \u001b[38;5;129;01mnot\u001b[39;00m \u001b[38;5;28;01mNone\u001b[39;00m \u001b[38;5;129;01mand\u001b[39;00m accepts_run_manager(func):\n\u001b[1;32m    395\u001b[0m     kwargs[\u001b[38;5;124m\"\u001b[39m\u001b[38;5;124mrun_manager\u001b[39m\u001b[38;5;124m\"\u001b[39m] \u001b[38;5;241m=\u001b[39m run_manager\n\u001b[0;32m--> 396\u001b[0m \u001b[38;5;28;01mreturn\u001b[39;00m \u001b[43mfunc\u001b[49m\u001b[43m(\u001b[49m\u001b[38;5;28;43minput\u001b[39;49m\u001b[43m,\u001b[49m\u001b[43m \u001b[49m\u001b[38;5;241;43m*\u001b[39;49m\u001b[38;5;241;43m*\u001b[39;49m\u001b[43mkwargs\u001b[49m\u001b[43m)\u001b[49m\n",
      "Cell \u001b[0;32mIn[32], line 34\u001b[0m, in \u001b[0;36mbuild_prompt\u001b[0;34m(kwargs)\u001b[0m\n\u001b[1;32m     32\u001b[0m \u001b[38;5;28;01mif\u001b[39;00m \u001b[38;5;28mlen\u001b[39m(docs_by_type[\u001b[38;5;124m\"\u001b[39m\u001b[38;5;124mtexts\u001b[39m\u001b[38;5;124m\"\u001b[39m]) \u001b[38;5;241m>\u001b[39m \u001b[38;5;241m0\u001b[39m:\n\u001b[1;32m     33\u001b[0m     \u001b[38;5;28;01mfor\u001b[39;00m text_element \u001b[38;5;129;01min\u001b[39;00m docs_by_type[\u001b[38;5;124m\"\u001b[39m\u001b[38;5;124mtexts\u001b[39m\u001b[38;5;124m\"\u001b[39m]:\n\u001b[0;32m---> 34\u001b[0m         context_text \u001b[38;5;241m+\u001b[39m\u001b[38;5;241m=\u001b[39m \u001b[43mtext_element\u001b[49m\u001b[38;5;241;43m.\u001b[39;49m\u001b[43mtext\u001b[49m\n\u001b[1;32m     36\u001b[0m \u001b[38;5;66;03m# construct prompt with context (including images)\u001b[39;00m\n\u001b[1;32m     37\u001b[0m prompt_template \u001b[38;5;241m=\u001b[39m \u001b[38;5;124mf\u001b[39m\u001b[38;5;124m\"\"\"\u001b[39m\n\u001b[1;32m     38\u001b[0m \u001b[38;5;124mAnswer the question based only on the following context, which can include text, tables.\u001b[39m\n\u001b[1;32m     39\u001b[0m \u001b[38;5;124mContext: \u001b[39m\u001b[38;5;132;01m{\u001b[39;00mcontext_text\u001b[38;5;132;01m}\u001b[39;00m\n\u001b[1;32m     40\u001b[0m \u001b[38;5;124mQuestion: \u001b[39m\u001b[38;5;132;01m{\u001b[39;00muser_question\u001b[38;5;132;01m}\u001b[39;00m\n\u001b[1;32m     41\u001b[0m \u001b[38;5;124m\u001b[39m\u001b[38;5;124m\"\"\"\u001b[39m\n",
      "File \u001b[0;32m~/.virtualenvs/chatwithpdf/lib/python3.12/site-packages/pydantic/main.py:856\u001b[0m, in \u001b[0;36mBaseModel.__getattr__\u001b[0;34m(self, item)\u001b[0m\n\u001b[1;32m    853\u001b[0m     \u001b[38;5;28;01mreturn\u001b[39;00m \u001b[38;5;28msuper\u001b[39m()\u001b[38;5;241m.\u001b[39m\u001b[38;5;21m__getattribute__\u001b[39m(item)  \u001b[38;5;66;03m# Raises AttributeError if appropriate\u001b[39;00m\n\u001b[1;32m    854\u001b[0m \u001b[38;5;28;01melse\u001b[39;00m:\n\u001b[1;32m    855\u001b[0m     \u001b[38;5;66;03m# this is the current error\u001b[39;00m\n\u001b[0;32m--> 856\u001b[0m     \u001b[38;5;28;01mraise\u001b[39;00m \u001b[38;5;167;01mAttributeError\u001b[39;00m(\u001b[38;5;124mf\u001b[39m\u001b[38;5;124m'\u001b[39m\u001b[38;5;132;01m{\u001b[39;00m\u001b[38;5;28mtype\u001b[39m(\u001b[38;5;28mself\u001b[39m)\u001b[38;5;241m.\u001b[39m\u001b[38;5;18m__name__\u001b[39m\u001b[38;5;132;01m!r}\u001b[39;00m\u001b[38;5;124m object has no attribute \u001b[39m\u001b[38;5;132;01m{\u001b[39;00mitem\u001b[38;5;132;01m!r}\u001b[39;00m\u001b[38;5;124m'\u001b[39m)\n",
      "\u001b[0;31mAttributeError\u001b[0m: 'Document' object has no attribute 'text'"
     ]
    }
   ],
   "source": [
    "response = chain.invoke(\"List of insured members\")\n",
    "\n",
    "print(response)\n",
    "print(response[\"response\"])"
   ]
  },
  {
   "cell_type": "code",
   "execution_count": null,
   "id": "e4adfeba",
   "metadata": {
    "id": "e4adfeba",
    "outputId": "7c82360d-4c90-4cd1-9db4-7ba815277bbc"
   },
   "outputs": [
    {
     "name": "stdout",
     "output_type": "stream",
     "text": [
      "Response: Multi-head attention is a mechanism used in the Transformer model that allows the model to focus on different parts of the input sequence simultaneously. Instead of using a single attention function, multi-head attention uses multiple attention heads, each performing attention with different, learned linear projections of the queries, keys, and values. \n",
      "\n",
      "Here's a breakdown of how it works:\n",
      "\n",
      "1. **Linear Projections**: The queries (Q), keys (K), and values (V) are projected into different subspaces using learned linear transformations. Each head has its own set of projections.\n",
      "\n",
      "2. **Parallel Attention**: Each head computes attention independently, allowing the model to attend to various representation subspaces from different positions in the input sequence.\n",
      "\n",
      "3. **Concatenation**: The outputs from all heads are concatenated together.\n",
      "\n",
      "4. **Final Linear Projection**: The concatenated output is then projected again to produce the final output.\n",
      "\n",
      "This approach enables the model to capture a richer set of relationships in the data compared to a single attention head, which might average out important information. Multi-head attention is particularly beneficial for tasks that require understanding complex dependencies in sequences, such as natural language processing.\n",
      "\n",
      "\n",
      "Context:\n",
      "3.2.2 Multi-Head Attention\n",
      "\n",
      "Instead of performing a single attention function with dmodel-dimensional keys, values and queries, we found it beneficial to linearly project the queries, keys and values h times with different, learned linear projections to dk, dk and dv dimensions, respectively. On each of these projected versions of queries, keys and values we then perform the attention function in parallel, yielding dv-dimensional\n",
      "\n",
      "‘To illustrate why the dot products get large, assume that the components of q and k are independent random variables with mean 0 and variance 1. Then their dot product, g -k = ves, qiki, has mean 0 and variance dx.\n",
      "\n",
      "4\n",
      "\n",
      "output values. These are concatenated and once again projected, resulting in the final values, as depicted in Figure 2.\n",
      "\n",
      "Multi-head attention allows the model to jointly attend to information from different representation subspaces at different positions. With a single attention head, averaging inhibits this.\n",
      "\n",
      "MultiHead(Q, K, V ) = Concat(head1, ..., headh)W O where headi = Attention(QW Q i , KW K i , V W V i )\n",
      "\n",
      "Where the projections are parameter matrices W Q and W O ∈ Rhdv×dmodel. i ∈ Rdmodel×dk , W K i ∈ Rdmodel×dk , W V i ∈ Rdmodel×dv\n",
      "\n",
      "In this work we employ h = 8 parallel attention layers, or heads. For each of these we use dk = dv = dmodel/h = 64. Due to the reduced dimension of each head, the total computational cost is similar to that of single-head attention with full dimensionality.\n",
      "\n",
      "3.2.3 Applications of Attention in our Model\n",
      "\n",
      "The Transformer uses multi-head attention in three different ways:\n",
      "\n",
      "• In \"encoder-decoder attention\" layers, the queries come from the previous decoder layer, and the memory keys and values come from the output of the encoder. This allows every position in the decoder to attend over all positions in the input sequence. This mimics the typical encoder-decoder attention mechanisms in sequence-to-sequence models such as [38, 2, 9].\n",
      "\n",
      "• The encoder contains self-attention layers. In a self-attention layer all of the keys, values and queries come from the same place, in this case, the output of the previous layer in the encoder. Each position in the encoder can attend to all positions in the previous layer of the encoder.\n",
      "\n",
      "• Similarly, self-attention layers in the decoder allow each position in the decoder to attend to all positions in the decoder up to and including that position. We need to prevent leftward information flow in the decoder to preserve the auto-regressive property. We implement this inside of scaled dot-product attention by masking out (setting to −∞) all values in the input of the softmax which correspond to illegal connections. See Figure 2.\n",
      "Page number:  4\n",
      "\n",
      "--------------------------------------------------\n",
      "\n",
      "big\n",
      "\n",
      "6\n",
      "\n",
      "1024\n",
      "\n",
      "4096\n",
      "\n",
      "16\n",
      "\n",
      "0.3\n",
      "\n",
      "300K 4.33\n",
      "\n",
      "26.4\n",
      "\n",
      "development set, newstest2013. We used beam search as described in the previous section, but no checkpoint averaging. We present these results in Table 3.\n",
      "\n",
      "In Table 3 rows (A), we vary the number of attention heads and the attention key and value dimensions, keeping the amount of computation constant, as described in Section 3.2.2. While single-head attention is 0.9 BLEU worse than the best setting, quality also drops off with too many heads.\n",
      "\n",
      "In Table 3 rows (B), we observe that reducing the attention key size dk hurts model quality. This suggests that determining compatibility is not easy and that a more sophisticated compatibility function than dot product may be beneficial. We further observe in rows (C) and (D) that, as expected, bigger models are better, and dropout is very helpful in avoiding over-fitting. In row (E) we replace our sinusoidal positional encoding with learned positional embeddings [9], and observe nearly identical results to the base model.\n",
      "\n",
      "6.3 English Constituency Parsing\n",
      "\n",
      "To evaluate if the Transformer can generalize to other tasks we performed experiments on English constituency parsing. This task presents specific challenges: the output is subject to strong structural constraints and is significantly longer than the input. Furthermore, RNN sequence-to-sequence models have not been able to attain state-of-the-art results in small-data regimes [37].\n",
      "\n",
      "We trained a 4-layer transformer with dmodel = 1024 on the Wall Street Journal (WSJ) portion of the Penn Treebank [25], about 40K training sentences. We also trained it in a semi-supervised setting, using the larger high-confidence and BerkleyParser corpora from with approximately 17M sentences [37]. We used a vocabulary of 16K tokens for the WSJ only setting and a vocabulary of 32K tokens for the semi-supervised setting.\n",
      "\n",
      "We performed only a small number of experiments to select the dropout, both attention and residual (section 5.4), learning rates and beam size on the Section 22 development set, all other parameters remained unchanged from the English-to-German base translation model. During inference, we\n",
      "\n",
      "9\n",
      "\n",
      "213\n",
      "\n",
      "Table 4: The Transformer generalizes well to English constituency parsing (Results are on Section 23 of WSJ)\n",
      "Page number:  9\n",
      "\n",
      "--------------------------------------------------\n",
      "\n",
      "[36] Christian Szegedy, Vincent Vanhoucke, Sergey Ioffe, Jonathon Shlens, and Zbigniew Wojna. Rethinking the inception architecture for computer vision. CoRR, abs/1512.00567, 2015.\n",
      "\n",
      "[37] Vinyals & Kaiser, Koo, Petrov, Sutskever, and Hinton. Grammar as a foreign language. In Advances in Neural Information Processing Systems, 2015.\n",
      "\n",
      "[38] Yonghui Wu, Mike Schuster, Zhifeng Chen, Quoc V Le, Mohammad Norouzi, Wolfgang Macherey, Maxim Krikun, Yuan Cao, Qin Gao, Klaus Macherey, et al. Google’s neural machine translation system: Bridging the gap between human and machine translation. arXiv preprint arXiv:1609.08144, 2016.\n",
      "\n",
      "[39] Jie Zhou, Ying Cao, Xuguang Wang, Peng Li, and Wei Xu. Deep recurrent models with fast-forward connections for neural machine translation. CoRR, abs/1606.04199, 2016.\n",
      "\n",
      "[40] Muhua Zhu, Yue Zhang, Wenliang Chen, Min Zhang, and Jingbo Zhu. Fast and accurate shift-reduce constituent parsing. In Proceedings of the 51st Annual Meeting of the ACL (Volume 1: Long Papers), pages 434–443. ACL, August 2013.\n",
      "\n",
      "12\n",
      "\n",
      "Attention Visualizations\n",
      "\n",
      "2 i i= RE 3 2 i 2 = = 2c 3 2 £ om % S GBANAAAA FS fe} oD DOD *H o Poe Q €oe2s oyzveyzuyeys 2SE @T_ EFESeSsEzESHR PL, SSSe TZSsSsggsg S=@LEGDEwB ECC oF aAeC RGN ESLSSSEESC -.VvVVVV VV HMO KEBOCSRSHLHOD QKXRDXE EO “A AAAAAA “= <2 £ 8 FogesouggsS ss P25 5273 Qvryxapvs\\3 es sa 5 Seeneteecorzgrs 2g ogs aaa oO 2 Sere =~ aA o ° 8 ueeeogoa0 o © £ 5 ane) vvvvv Vv £ eg € ° 2 Ss v Do <¢ 8 & |\n",
      "\n",
      "Figure 3: An example of the attention mechanism following long-distance dependencies in the encoder self-attention in layer 5 of 6. Many of the attention heads attend to a distant dependency of the verb ‘making’, completing the phrase ‘making...more difficult’. Attentions here shown only for the word ‘making’. Different colors represent different heads. Best viewed in color.\n",
      "\n",
      "13\n",
      "\n",
      "<ped> <ped> UOIUIdO == Aw ul Bulssiw ale « aM = yeum = S| sy ysnf pinoys = uoluldo Aw ul Bulssiw ae ysnf 38q Pinoys uojeojdde si! nq poped 38q JaAou Me] au <ped> <SOa> uojuido Aw ul Bulssiuw oe aM yeum S| SIU} ysnf 3q Pinoys uojeodde Ss}! ynq yoped 3q 4eAeuU meq auL <ped> <SOa> uo|uldo Aw ul Bulssiuw oe eM yeum S| Siu} ysnf 3q Pinoys uoyeoydde si! ynq yoped 3q aul\n",
      "\n",
      "Figure 4: Two attention heads, also in layer 5 of 6, apparently involved in anaphora resolution. Top: Full attentions for head 5. Bottom: Isolated attentions from just the word ‘its’ for attention heads 5 and 6. Note that the attentions are very sharp for this word.\n",
      "\n",
      "14\n",
      "\n",
      "<ped> <ped> <SOH>\\ <SO3> uoluido = uoluido Aw Aw yeyum S| sim pi—f}— 4 -ysn{ | Pinoys «+ pinoys uoeoydde uojeodde SHI S$}! | ya | nga ynq poped pooped aq aq Janou™ J@AoU WIM TIM me) me) aul “OU\n",
      "\n",
      "<ped> <ped> so <0 Uo|UIdO uoluido Aw Aw ul ul Bulssiw Bulssiw ae ale aM am yeuM yeum S| S| sty} # sly -—A - el eq eq pinoys « pinoys uojeoidde ee Ss}! Ss}! nq ee popod a —_ ee eq eq JOAoU JOAoU IW IW rr auL auL\n",
      "\n",
      "Figure 5: Many of the attention heads exhibit behaviour that seems related to the structure of the sentence. We give two such examples above, from two different heads from the encoder self-attention at layer 5 of 6. The heads clearly learned to perform different tasks.\n",
      "\n",
      "15\n",
      "Page number:  12\n",
      "\n",
      "--------------------------------------------------\n",
      "\n"
     ]
    },
    {
     "data": {
      "image/jpeg": "[encoded data removed]",
      "text/plain": [
       "<IPython.core.display.Image object>"
      ]
     },
     "metadata": {},
     "output_type": "display_data"
    }
   ],
   "source": [
    "response = chain_with_sources.invoke(\"What is multihead?\")\n",
    "\n",
    "print(\"Response:\", response[\"response\"])\n",
    "\n",
    "print(\"\\n\\nContext:\")\n",
    "for text in response[\"context\"][\"texts\"]:\n",
    "    print(text.text)\n",
    "    print(\"Page number: \", text.metadata.page_number)\n",
    "    print(\"\\n\" + \"-\" * 50 + \"\\n\")\n",
    "for image in response[\"context\"][\"images\"]:\n",
    "    display_base64_image(image)"
   ]
  },
  {
   "cell_type": "markdown",
   "id": "90cd3714",
   "metadata": {
    "id": "90cd3714"
   },
   "source": [
    "<!-- ## References\n",
    "\n",
    "- [LangChain Inspiration](https://github.com/langchain-ai/langchain/blob/master/cookbook/Semi_structured_and_multi_modal_RAG.ipynb?ref=blog.langchain.dev)\n",
    "- [Multivector Storage](https://python.langchain.com/docs/how_to/multi_vector/) -->"
   ]
  }
 ],
 "metadata": {
  "colab": {
   "collapsed_sections": [
    "74b56bde-1ba0-4525-a11d-cab02c5659e4",
    "8b55862c",
    "b1feadda-8171-4aed-9a60-320a88dc9ee1",
    "bb4d2379",
    "2bf26669",
    "4b45fb81-46b1-426e-aa2c-01aed4eac700",
    "69060724-e390-4dda-8250-5f86025c874a"
   ],
   "provenance": []
  },
  "kernelspec": {
   "display_name": "chatwithpdf",
   "language": "python",
   "name": "python3"
  },
  "language_info": {
   "codemirror_mode": {
    "name": "ipython",
    "version": 3
   },
   "file_extension": ".py",
   "mimetype": "text/x-python",
   "name": "python",
   "nbconvert_exporter": "python",
   "pygments_lexer": "ipython3",
   "version": "3.12.7"
  },
  "widgets": {
   "application/vnd.jupyter.widget-state+json": {
    "00b164fb36864e53a8a73710d7d855cc": {
     "model_module": "@jupyter-widgets/base",
     "model_module_version": "1.2.0",
     "model_name": "LayoutModel",
     "state": {
      "_model_module": "@jupyter-widgets/base",
      "_model_module_version": "1.2.0",
      "_model_name": "LayoutModel",
      "_view_count": null,
      "_view_module": "@jupyter-widgets/base",
      "_view_module_version": "1.2.0",
      "_view_name": "LayoutView",
      "align_content": null,
      "align_items": null,
      "align_self": null,
      "border": null,
      "bottom": null,
      "display": null,
      "flex": null,
      "flex_flow": null,
      "grid_area": null,
      "grid_auto_columns": null,
      "grid_auto_flow": null,
      "grid_auto_rows": null,
      "grid_column": null,
      "grid_gap": null,
      "grid_row": null,
      "grid_template_areas": null,
      "grid_template_columns": null,
      "grid_template_rows": null,
      "height": null,
      "justify_content": null,
      "justify_items": null,
      "left": null,
      "margin": null,
      "max_height": null,
      "max_width": null,
      "min_height": null,
      "min_width": null,
      "object_fit": null,
      "object_position": null,
      "order": null,
      "overflow": null,
      "overflow_x": null,
      "overflow_y": null,
      "padding": null,
      "right": null,
      "top": null,
      "visibility": null,
      "width": null
     }
    },
    "01ef4b60c3144e17afffb86281466bab": {
     "model_module": "@jupyter-widgets/base",
     "model_module_version": "1.2.0",
     "model_name": "LayoutModel",
     "state": {
      "_model_module": "@jupyter-widgets/base",
      "_model_module_version": "1.2.0",
      "_model_name": "LayoutModel",
      "_view_count": null,
      "_view_module": "@jupyter-widgets/base",
      "_view_module_version": "1.2.0",
      "_view_name": "LayoutView",
      "align_content": null,
      "align_items": null,
      "align_self": null,
      "border": null,
      "bottom": null,
      "display": null,
      "flex": null,
      "flex_flow": null,
      "grid_area": null,
      "grid_auto_columns": null,
      "grid_auto_flow": null,
      "grid_auto_rows": null,
      "grid_column": null,
      "grid_gap": null,
      "grid_row": null,
      "grid_template_areas": null,
      "grid_template_columns": null,
      "grid_template_rows": null,
      "height": null,
      "justify_content": null,
      "justify_items": null,
      "left": null,
      "margin": null,
      "max_height": null,
      "max_width": null,
      "min_height": null,
      "min_width": null,
      "object_fit": null,
      "object_position": null,
      "order": null,
      "overflow": null,
      "overflow_x": null,
      "overflow_y": null,
      "padding": null,
      "right": null,
      "top": null,
      "visibility": null,
      "width": null
     }
    },
    "052ec73371404595b7dec973dda308d4": {
     "model_module": "@jupyter-widgets/controls",
     "model_module_version": "1.5.0",
     "model_name": "DescriptionStyleModel",
     "state": {
      "_model_module": "@jupyter-widgets/controls",
      "_model_module_version": "1.5.0",
      "_model_name": "DescriptionStyleModel",
      "_view_count": null,
      "_view_module": "@jupyter-widgets/base",
      "_view_module_version": "1.2.0",
      "_view_name": "StyleView",
      "description_width": ""
     }
    },
    "0e7ed203dde24ec9a8d0f9c95a8877fd": {
     "model_module": "@jupyter-widgets/base",
     "model_module_version": "1.2.0",
     "model_name": "LayoutModel",
     "state": {
      "_model_module": "@jupyter-widgets/base",
      "_model_module_version": "1.2.0",
      "_model_name": "LayoutModel",
      "_view_count": null,
      "_view_module": "@jupyter-widgets/base",
      "_view_module_version": "1.2.0",
      "_view_name": "LayoutView",
      "align_content": null,
      "align_items": null,
      "align_self": null,
      "border": null,
      "bottom": null,
      "display": null,
      "flex": null,
      "flex_flow": null,
      "grid_area": null,
      "grid_auto_columns": null,
      "grid_auto_flow": null,
      "grid_auto_rows": null,
      "grid_column": null,
      "grid_gap": null,
      "grid_row": null,
      "grid_template_areas": null,
      "grid_template_columns": null,
      "grid_template_rows": null,
      "height": null,
      "justify_content": null,
      "justify_items": null,
      "left": null,
      "margin": null,
      "max_height": null,
      "max_width": null,
      "min_height": null,
      "min_width": null,
      "object_fit": null,
      "object_position": null,
      "order": null,
      "overflow": null,
      "overflow_x": null,
      "overflow_y": null,
      "padding": null,
      "right": null,
      "top": null,
      "visibility": null,
      "width": null
     }
    },
    "15b9261bb07f4bbb95d276b92feabade": {
     "model_module": "@jupyter-widgets/controls",
     "model_module_version": "1.5.0",
     "model_name": "HTMLModel",
     "state": {
      "_dom_classes": [],
      "_model_module": "@jupyter-widgets/controls",
      "_model_module_version": "1.5.0",
      "_model_name": "HTMLModel",
      "_view_count": null,
      "_view_module": "@jupyter-widgets/controls",
      "_view_module_version": "1.5.0",
      "_view_name": "HTMLView",
      "description": "",
      "description_tooltip": null,
      "layout": "IPY_MODEL_0e7ed203dde24ec9a8d0f9c95a8877fd",
      "placeholder": "​",
      "style": "IPY_MODEL_e64cfd87330d4b238596da66db63d984",
      "value": "Downloading (…)lve/main/config.json: 100%"
     }
    },
    "2045ffddb5c4407f9235d1bf472e9ba5": {
     "model_module": "@jupyter-widgets/controls",
     "model_module_version": "1.5.0",
     "model_name": "HTMLModel",
     "state": {
      "_dom_classes": [],
      "_model_module": "@jupyter-widgets/controls",
      "_model_module_version": "1.5.0",
      "_model_name": "HTMLModel",
      "_view_count": null,
      "_view_module": "@jupyter-widgets/controls",
      "_view_module_version": "1.5.0",
      "_view_name": "HTMLView",
      "description": "",
      "description_tooltip": null,
      "layout": "IPY_MODEL_9eab400a02dc46269e2537db44a78625",
      "placeholder": "​",
      "style": "IPY_MODEL_415ddcb74bc2467fa9399039b7d0cafb",
      "value": "Downloading model.safetensors: 100%"
     }
    },
    "21318da3ae0644c28ec63983a34bd2ee": {
     "model_module": "@jupyter-widgets/controls",
     "model_module_version": "1.5.0",
     "model_name": "HTMLModel",
     "state": {
      "_dom_classes": [],
      "_model_module": "@jupyter-widgets/controls",
      "_model_module_version": "1.5.0",
      "_model_name": "HTMLModel",
      "_view_count": null,
      "_view_module": "@jupyter-widgets/controls",
      "_view_module_version": "1.5.0",
      "_view_name": "HTMLView",
      "description": "",
      "description_tooltip": null,
      "layout": "IPY_MODEL_7ad056a7d71847d498f270ecac5cbf62",
      "placeholder": "​",
      "style": "IPY_MODEL_309bad22d08c47af8d51942da599328e",
      "value": " 46.8M/46.8M [00:00&lt;00:00, 103MB/s]"
     }
    },
    "27e36e7f92d7417bb221fa95406cfb2f": {
     "model_module": "@jupyter-widgets/controls",
     "model_module_version": "1.5.0",
     "model_name": "FloatProgressModel",
     "state": {
      "_dom_classes": [],
      "_model_module": "@jupyter-widgets/controls",
      "_model_module_version": "1.5.0",
      "_model_name": "FloatProgressModel",
      "_view_count": null,
      "_view_module": "@jupyter-widgets/controls",
      "_view_module_version": "1.5.0",
      "_view_name": "ProgressView",
      "bar_style": "success",
      "description": "",
      "description_tooltip": null,
      "layout": "IPY_MODEL_7185b40a7fa74088ad7ff6efb524e6b5",
      "max": 46807446,
      "min": 0,
      "orientation": "horizontal",
      "style": "IPY_MODEL_cc6672c78dac468d9264efd90902c87d",
      "value": 46807446
     }
    },
    "2bcca7acc6f047d6ad4efbf1e5333c58": {
     "model_module": "@jupyter-widgets/base",
     "model_module_version": "1.2.0",
     "model_name": "LayoutModel",
     "state": {
      "_model_module": "@jupyter-widgets/base",
      "_model_module_version": "1.2.0",
      "_model_name": "LayoutModel",
      "_view_count": null,
      "_view_module": "@jupyter-widgets/base",
      "_view_module_version": "1.2.0",
      "_view_name": "LayoutView",
      "align_content": null,
      "align_items": null,
      "align_self": null,
      "border": null,
      "bottom": null,
      "display": null,
      "flex": null,
      "flex_flow": null,
      "grid_area": null,
      "grid_auto_columns": null,
      "grid_auto_flow": null,
      "grid_auto_rows": null,
      "grid_column": null,
      "grid_gap": null,
      "grid_row": null,
      "grid_template_areas": null,
      "grid_template_columns": null,
      "grid_template_rows": null,
      "height": null,
      "justify_content": null,
      "justify_items": null,
      "left": null,
      "margin": null,
      "max_height": null,
      "max_width": null,
      "min_height": null,
      "min_width": null,
      "object_fit": null,
      "object_position": null,
      "order": null,
      "overflow": null,
      "overflow_x": null,
      "overflow_y": null,
      "padding": null,
      "right": null,
      "top": null,
      "visibility": null,
      "width": null
     }
    },
    "2df0c4cc59044ec8a59aadf2d5d2a9c9": {
     "model_module": "@jupyter-widgets/controls",
     "model_module_version": "1.5.0",
     "model_name": "FloatProgressModel",
     "state": {
      "_dom_classes": [],
      "_model_module": "@jupyter-widgets/controls",
      "_model_module_version": "1.5.0",
      "_model_name": "FloatProgressModel",
      "_view_count": null,
      "_view_module": "@jupyter-widgets/controls",
      "_view_module_version": "1.5.0",
      "_view_name": "ProgressView",
      "bar_style": "success",
      "description": "",
      "description_tooltip": null,
      "layout": "IPY_MODEL_b2fc825e7e6949e0a18f491ff261ac2b",
      "max": 115434268,
      "min": 0,
      "orientation": "horizontal",
      "style": "IPY_MODEL_df6e6c84cc1c4c7b8cf5f8555eb42166",
      "value": 115434268
     }
    },
    "2ee43f14fa654a66ad0cfb559826f266": {
     "model_module": "@jupyter-widgets/controls",
     "model_module_version": "1.5.0",
     "model_name": "FloatProgressModel",
     "state": {
      "_dom_classes": [],
      "_model_module": "@jupyter-widgets/controls",
      "_model_module_version": "1.5.0",
      "_model_name": "FloatProgressModel",
      "_view_count": null,
      "_view_module": "@jupyter-widgets/controls",
      "_view_module_version": "1.5.0",
      "_view_name": "ProgressView",
      "bar_style": "success",
      "description": "",
      "description_tooltip": null,
      "layout": "IPY_MODEL_00b164fb36864e53a8a73710d7d855cc",
      "max": 216625723,
      "min": 0,
      "orientation": "horizontal",
      "style": "IPY_MODEL_64a0c4aa0bba4b6f8e8f5775a4341147",
      "value": 216625723
     }
    },
    "3095817ccc8f4ec6bae9b0c201d8e40a": {
     "model_module": "@jupyter-widgets/controls",
     "model_module_version": "1.5.0",
     "model_name": "HTMLModel",
     "state": {
      "_dom_classes": [],
      "_model_module": "@jupyter-widgets/controls",
      "_model_module_version": "1.5.0",
      "_model_name": "HTMLModel",
      "_view_count": null,
      "_view_module": "@jupyter-widgets/controls",
      "_view_module_version": "1.5.0",
      "_view_name": "HTMLView",
      "description": "",
      "description_tooltip": null,
      "layout": "IPY_MODEL_547eb1582628438c9f0ef01554dfcdb4",
      "placeholder": "​",
      "style": "IPY_MODEL_40b532d4d85740a2a16251bb321f489a",
      "value": " 115M/115M [00:02&lt;00:00, 36.9MB/s]"
     }
    },
    "309bad22d08c47af8d51942da599328e": {
     "model_module": "@jupyter-widgets/controls",
     "model_module_version": "1.5.0",
     "model_name": "DescriptionStyleModel",
     "state": {
      "_model_module": "@jupyter-widgets/controls",
      "_model_module_version": "1.5.0",
      "_model_name": "DescriptionStyleModel",
      "_view_count": null,
      "_view_module": "@jupyter-widgets/base",
      "_view_module_version": "1.2.0",
      "_view_name": "StyleView",
      "description_width": ""
     }
    },
    "3494ef9884224fa9a0a65999d7fc2945": {
     "model_module": "@jupyter-widgets/controls",
     "model_module_version": "1.5.0",
     "model_name": "DescriptionStyleModel",
     "state": {
      "_model_module": "@jupyter-widgets/controls",
      "_model_module_version": "1.5.0",
      "_model_name": "DescriptionStyleModel",
      "_view_count": null,
      "_view_module": "@jupyter-widgets/base",
      "_view_module_version": "1.2.0",
      "_view_name": "StyleView",
      "description_width": ""
     }
    },
    "3bd05fe4e6bd4ea2b7bfcfba705369c5": {
     "model_module": "@jupyter-widgets/controls",
     "model_module_version": "1.5.0",
     "model_name": "HTMLModel",
     "state": {
      "_dom_classes": [],
      "_model_module": "@jupyter-widgets/controls",
      "_model_module_version": "1.5.0",
      "_model_name": "HTMLModel",
      "_view_count": null,
      "_view_module": "@jupyter-widgets/controls",
      "_view_module_version": "1.5.0",
      "_view_name": "HTMLView",
      "description": "",
      "description_tooltip": null,
      "layout": "IPY_MODEL_01ef4b60c3144e17afffb86281466bab",
      "placeholder": "​",
      "style": "IPY_MODEL_3494ef9884224fa9a0a65999d7fc2945",
      "value": "Downloading model.safetensors: 100%"
     }
    },
    "40b532d4d85740a2a16251bb321f489a": {
     "model_module": "@jupyter-widgets/controls",
     "model_module_version": "1.5.0",
     "model_name": "DescriptionStyleModel",
     "state": {
      "_model_module": "@jupyter-widgets/controls",
      "_model_module_version": "1.5.0",
      "_model_name": "DescriptionStyleModel",
      "_view_count": null,
      "_view_module": "@jupyter-widgets/base",
      "_view_module_version": "1.2.0",
      "_view_name": "StyleView",
      "description_width": ""
     }
    },
    "415ddcb74bc2467fa9399039b7d0cafb": {
     "model_module": "@jupyter-widgets/controls",
     "model_module_version": "1.5.0",
     "model_name": "DescriptionStyleModel",
     "state": {
      "_model_module": "@jupyter-widgets/controls",
      "_model_module_version": "1.5.0",
      "_model_name": "DescriptionStyleModel",
      "_view_count": null,
      "_view_module": "@jupyter-widgets/base",
      "_view_module_version": "1.2.0",
      "_view_name": "StyleView",
      "description_width": ""
     }
    },
    "5246faf4e8194647a4b41d9de5a168f6": {
     "model_module": "@jupyter-widgets/controls",
     "model_module_version": "1.5.0",
     "model_name": "HBoxModel",
     "state": {
      "_dom_classes": [],
      "_model_module": "@jupyter-widgets/controls",
      "_model_module_version": "1.5.0",
      "_model_name": "HBoxModel",
      "_view_count": null,
      "_view_module": "@jupyter-widgets/controls",
      "_view_module_version": "1.5.0",
      "_view_name": "HBoxView",
      "box_style": "",
      "children": [
       "IPY_MODEL_c8f31460d7d5420db2c7840e287fac5b",
       "IPY_MODEL_2ee43f14fa654a66ad0cfb559826f266",
       "IPY_MODEL_e7e6388db19d47ceb06afc75fbb8486c"
      ],
      "layout": "IPY_MODEL_922be25533bd448e9ce92614f7bd2677"
     }
    },
    "547eb1582628438c9f0ef01554dfcdb4": {
     "model_module": "@jupyter-widgets/base",
     "model_module_version": "1.2.0",
     "model_name": "LayoutModel",
     "state": {
      "_model_module": "@jupyter-widgets/base",
      "_model_module_version": "1.2.0",
      "_model_name": "LayoutModel",
      "_view_count": null,
      "_view_module": "@jupyter-widgets/base",
      "_view_module_version": "1.2.0",
      "_view_name": "LayoutView",
      "align_content": null,
      "align_items": null,
      "align_self": null,
      "border": null,
      "bottom": null,
      "display": null,
      "flex": null,
      "flex_flow": null,
      "grid_area": null,
      "grid_auto_columns": null,
      "grid_auto_flow": null,
      "grid_auto_rows": null,
      "grid_column": null,
      "grid_gap": null,
      "grid_row": null,
      "grid_template_areas": null,
      "grid_template_columns": null,
      "grid_template_rows": null,
      "height": null,
      "justify_content": null,
      "justify_items": null,
      "left": null,
      "margin": null,
      "max_height": null,
      "max_width": null,
      "min_height": null,
      "min_width": null,
      "object_fit": null,
      "object_position": null,
      "order": null,
      "overflow": null,
      "overflow_x": null,
      "overflow_y": null,
      "padding": null,
      "right": null,
      "top": null,
      "visibility": null,
      "width": null
     }
    },
    "5ffb0b594f51466284af380fd4d47b40": {
     "model_module": "@jupyter-widgets/controls",
     "model_module_version": "1.5.0",
     "model_name": "FloatProgressModel",
     "state": {
      "_dom_classes": [],
      "_model_module": "@jupyter-widgets/controls",
      "_model_module_version": "1.5.0",
      "_model_name": "FloatProgressModel",
      "_view_count": null,
      "_view_module": "@jupyter-widgets/controls",
      "_view_module_version": "1.5.0",
      "_view_name": "ProgressView",
      "bar_style": "success",
      "description": "",
      "description_tooltip": null,
      "layout": "IPY_MODEL_c13aff2b064743be941b4672550e56c9",
      "max": 1469,
      "min": 0,
      "orientation": "horizontal",
      "style": "IPY_MODEL_ef5fba5f330748faa9bd583d637087a6",
      "value": 1469
     }
    },
    "64a0c4aa0bba4b6f8e8f5775a4341147": {
     "model_module": "@jupyter-widgets/controls",
     "model_module_version": "1.5.0",
     "model_name": "ProgressStyleModel",
     "state": {
      "_model_module": "@jupyter-widgets/controls",
      "_model_module_version": "1.5.0",
      "_model_name": "ProgressStyleModel",
      "_view_count": null,
      "_view_module": "@jupyter-widgets/base",
      "_view_module_version": "1.2.0",
      "_view_name": "StyleView",
      "bar_color": null,
      "description_width": ""
     }
    },
    "7185b40a7fa74088ad7ff6efb524e6b5": {
     "model_module": "@jupyter-widgets/base",
     "model_module_version": "1.2.0",
     "model_name": "LayoutModel",
     "state": {
      "_model_module": "@jupyter-widgets/base",
      "_model_module_version": "1.2.0",
      "_model_name": "LayoutModel",
      "_view_count": null,
      "_view_module": "@jupyter-widgets/base",
      "_view_module_version": "1.2.0",
      "_view_name": "LayoutView",
      "align_content": null,
      "align_items": null,
      "align_self": null,
      "border": null,
      "bottom": null,
      "display": null,
      "flex": null,
      "flex_flow": null,
      "grid_area": null,
      "grid_auto_columns": null,
      "grid_auto_flow": null,
      "grid_auto_rows": null,
      "grid_column": null,
      "grid_gap": null,
      "grid_row": null,
      "grid_template_areas": null,
      "grid_template_columns": null,
      "grid_template_rows": null,
      "height": null,
      "justify_content": null,
      "justify_items": null,
      "left": null,
      "margin": null,
      "max_height": null,
      "max_width": null,
      "min_height": null,
      "min_width": null,
      "object_fit": null,
      "object_position": null,
      "order": null,
      "overflow": null,
      "overflow_x": null,
      "overflow_y": null,
      "padding": null,
      "right": null,
      "top": null,
      "visibility": null,
      "width": null
     }
    },
    "7ad056a7d71847d498f270ecac5cbf62": {
     "model_module": "@jupyter-widgets/base",
     "model_module_version": "1.2.0",
     "model_name": "LayoutModel",
     "state": {
      "_model_module": "@jupyter-widgets/base",
      "_model_module_version": "1.2.0",
      "_model_name": "LayoutModel",
      "_view_count": null,
      "_view_module": "@jupyter-widgets/base",
      "_view_module_version": "1.2.0",
      "_view_name": "LayoutView",
      "align_content": null,
      "align_items": null,
      "align_self": null,
      "border": null,
      "bottom": null,
      "display": null,
      "flex": null,
      "flex_flow": null,
      "grid_area": null,
      "grid_auto_columns": null,
      "grid_auto_flow": null,
      "grid_auto_rows": null,
      "grid_column": null,
      "grid_gap": null,
      "grid_row": null,
      "grid_template_areas": null,
      "grid_template_columns": null,
      "grid_template_rows": null,
      "height": null,
      "justify_content": null,
      "justify_items": null,
      "left": null,
      "margin": null,
      "max_height": null,
      "max_width": null,
      "min_height": null,
      "min_width": null,
      "object_fit": null,
      "object_position": null,
      "order": null,
      "overflow": null,
      "overflow_x": null,
      "overflow_y": null,
      "padding": null,
      "right": null,
      "top": null,
      "visibility": null,
      "width": null
     }
    },
    "7d37b6f0ba8b4c5eb875635b98778d26": {
     "model_module": "@jupyter-widgets/controls",
     "model_module_version": "1.5.0",
     "model_name": "DescriptionStyleModel",
     "state": {
      "_model_module": "@jupyter-widgets/controls",
      "_model_module_version": "1.5.0",
      "_model_name": "DescriptionStyleModel",
      "_view_count": null,
      "_view_module": "@jupyter-widgets/base",
      "_view_module_version": "1.2.0",
      "_view_name": "StyleView",
      "description_width": ""
     }
    },
    "922be25533bd448e9ce92614f7bd2677": {
     "model_module": "@jupyter-widgets/base",
     "model_module_version": "1.2.0",
     "model_name": "LayoutModel",
     "state": {
      "_model_module": "@jupyter-widgets/base",
      "_model_module_version": "1.2.0",
      "_model_name": "LayoutModel",
      "_view_count": null,
      "_view_module": "@jupyter-widgets/base",
      "_view_module_version": "1.2.0",
      "_view_name": "LayoutView",
      "align_content": null,
      "align_items": null,
      "align_self": null,
      "border": null,
      "bottom": null,
      "display": null,
      "flex": null,
      "flex_flow": null,
      "grid_area": null,
      "grid_auto_columns": null,
      "grid_auto_flow": null,
      "grid_auto_rows": null,
      "grid_column": null,
      "grid_gap": null,
      "grid_row": null,
      "grid_template_areas": null,
      "grid_template_columns": null,
      "grid_template_rows": null,
      "height": null,
      "justify_content": null,
      "justify_items": null,
      "left": null,
      "margin": null,
      "max_height": null,
      "max_width": null,
      "min_height": null,
      "min_width": null,
      "object_fit": null,
      "object_position": null,
      "order": null,
      "overflow": null,
      "overflow_x": null,
      "overflow_y": null,
      "padding": null,
      "right": null,
      "top": null,
      "visibility": null,
      "width": null
     }
    },
    "93205e664daa4921959605eb99dfa9cc": {
     "model_module": "@jupyter-widgets/base",
     "model_module_version": "1.2.0",
     "model_name": "LayoutModel",
     "state": {
      "_model_module": "@jupyter-widgets/base",
      "_model_module_version": "1.2.0",
      "_model_name": "LayoutModel",
      "_view_count": null,
      "_view_module": "@jupyter-widgets/base",
      "_view_module_version": "1.2.0",
      "_view_name": "LayoutView",
      "align_content": null,
      "align_items": null,
      "align_self": null,
      "border": null,
      "bottom": null,
      "display": null,
      "flex": null,
      "flex_flow": null,
      "grid_area": null,
      "grid_auto_columns": null,
      "grid_auto_flow": null,
      "grid_auto_rows": null,
      "grid_column": null,
      "grid_gap": null,
      "grid_row": null,
      "grid_template_areas": null,
      "grid_template_columns": null,
      "grid_template_rows": null,
      "height": null,
      "justify_content": null,
      "justify_items": null,
      "left": null,
      "margin": null,
      "max_height": null,
      "max_width": null,
      "min_height": null,
      "min_width": null,
      "object_fit": null,
      "object_position": null,
      "order": null,
      "overflow": null,
      "overflow_x": null,
      "overflow_y": null,
      "padding": null,
      "right": null,
      "top": null,
      "visibility": null,
      "width": null
     }
    },
    "9eab400a02dc46269e2537db44a78625": {
     "model_module": "@jupyter-widgets/base",
     "model_module_version": "1.2.0",
     "model_name": "LayoutModel",
     "state": {
      "_model_module": "@jupyter-widgets/base",
      "_model_module_version": "1.2.0",
      "_model_name": "LayoutModel",
      "_view_count": null,
      "_view_module": "@jupyter-widgets/base",
      "_view_module_version": "1.2.0",
      "_view_name": "LayoutView",
      "align_content": null,
      "align_items": null,
      "align_self": null,
      "border": null,
      "bottom": null,
      "display": null,
      "flex": null,
      "flex_flow": null,
      "grid_area": null,
      "grid_auto_columns": null,
      "grid_auto_flow": null,
      "grid_auto_rows": null,
      "grid_column": null,
      "grid_gap": null,
      "grid_row": null,
      "grid_template_areas": null,
      "grid_template_columns": null,
      "grid_template_rows": null,
      "height": null,
      "justify_content": null,
      "justify_items": null,
      "left": null,
      "margin": null,
      "max_height": null,
      "max_width": null,
      "min_height": null,
      "min_width": null,
      "object_fit": null,
      "object_position": null,
      "order": null,
      "overflow": null,
      "overflow_x": null,
      "overflow_y": null,
      "padding": null,
      "right": null,
      "top": null,
      "visibility": null,
      "width": null
     }
    },
    "a9a67e81e91e46e19b23f58dea634525": {
     "model_module": "@jupyter-widgets/controls",
     "model_module_version": "1.5.0",
     "model_name": "HBoxModel",
     "state": {
      "_dom_classes": [],
      "_model_module": "@jupyter-widgets/controls",
      "_model_module_version": "1.5.0",
      "_model_name": "HBoxModel",
      "_view_count": null,
      "_view_module": "@jupyter-widgets/controls",
      "_view_module_version": "1.5.0",
      "_view_name": "HBoxView",
      "box_style": "",
      "children": [
       "IPY_MODEL_2045ffddb5c4407f9235d1bf472e9ba5",
       "IPY_MODEL_2df0c4cc59044ec8a59aadf2d5d2a9c9",
       "IPY_MODEL_3095817ccc8f4ec6bae9b0c201d8e40a"
      ],
      "layout": "IPY_MODEL_93205e664daa4921959605eb99dfa9cc"
     }
    },
    "b12ba9f2111c44eeb5ae65820cc7d5d7": {
     "model_module": "@jupyter-widgets/controls",
     "model_module_version": "1.5.0",
     "model_name": "HBoxModel",
     "state": {
      "_dom_classes": [],
      "_model_module": "@jupyter-widgets/controls",
      "_model_module_version": "1.5.0",
      "_model_name": "HBoxModel",
      "_view_count": null,
      "_view_module": "@jupyter-widgets/controls",
      "_view_module_version": "1.5.0",
      "_view_name": "HBoxView",
      "box_style": "",
      "children": [
       "IPY_MODEL_15b9261bb07f4bbb95d276b92feabade",
       "IPY_MODEL_5ffb0b594f51466284af380fd4d47b40",
       "IPY_MODEL_fc994e0c5ced45c78c0b9bb6f19c073f"
      ],
      "layout": "IPY_MODEL_c58471c60519419e9cdb3c7ff174d702"
     }
    },
    "b2fc825e7e6949e0a18f491ff261ac2b": {
     "model_module": "@jupyter-widgets/base",
     "model_module_version": "1.2.0",
     "model_name": "LayoutModel",
     "state": {
      "_model_module": "@jupyter-widgets/base",
      "_model_module_version": "1.2.0",
      "_model_name": "LayoutModel",
      "_view_count": null,
      "_view_module": "@jupyter-widgets/base",
      "_view_module_version": "1.2.0",
      "_view_name": "LayoutView",
      "align_content": null,
      "align_items": null,
      "align_self": null,
      "border": null,
      "bottom": null,
      "display": null,
      "flex": null,
      "flex_flow": null,
      "grid_area": null,
      "grid_auto_columns": null,
      "grid_auto_flow": null,
      "grid_auto_rows": null,
      "grid_column": null,
      "grid_gap": null,
      "grid_row": null,
      "grid_template_areas": null,
      "grid_template_columns": null,
      "grid_template_rows": null,
      "height": null,
      "justify_content": null,
      "justify_items": null,
      "left": null,
      "margin": null,
      "max_height": null,
      "max_width": null,
      "min_height": null,
      "min_width": null,
      "object_fit": null,
      "object_position": null,
      "order": null,
      "overflow": null,
      "overflow_x": null,
      "overflow_y": null,
      "padding": null,
      "right": null,
      "top": null,
      "visibility": null,
      "width": null
     }
    },
    "c13aff2b064743be941b4672550e56c9": {
     "model_module": "@jupyter-widgets/base",
     "model_module_version": "1.2.0",
     "model_name": "LayoutModel",
     "state": {
      "_model_module": "@jupyter-widgets/base",
      "_model_module_version": "1.2.0",
      "_model_name": "LayoutModel",
      "_view_count": null,
      "_view_module": "@jupyter-widgets/base",
      "_view_module_version": "1.2.0",
      "_view_name": "LayoutView",
      "align_content": null,
      "align_items": null,
      "align_self": null,
      "border": null,
      "bottom": null,
      "display": null,
      "flex": null,
      "flex_flow": null,
      "grid_area": null,
      "grid_auto_columns": null,
      "grid_auto_flow": null,
      "grid_auto_rows": null,
      "grid_column": null,
      "grid_gap": null,
      "grid_row": null,
      "grid_template_areas": null,
      "grid_template_columns": null,
      "grid_template_rows": null,
      "height": null,
      "justify_content": null,
      "justify_items": null,
      "left": null,
      "margin": null,
      "max_height": null,
      "max_width": null,
      "min_height": null,
      "min_width": null,
      "object_fit": null,
      "object_position": null,
      "order": null,
      "overflow": null,
      "overflow_x": null,
      "overflow_y": null,
      "padding": null,
      "right": null,
      "top": null,
      "visibility": null,
      "width": null
     }
    },
    "c428c0bd915d455986b3193e9636ea80": {
     "model_module": "@jupyter-widgets/base",
     "model_module_version": "1.2.0",
     "model_name": "LayoutModel",
     "state": {
      "_model_module": "@jupyter-widgets/base",
      "_model_module_version": "1.2.0",
      "_model_name": "LayoutModel",
      "_view_count": null,
      "_view_module": "@jupyter-widgets/base",
      "_view_module_version": "1.2.0",
      "_view_name": "LayoutView",
      "align_content": null,
      "align_items": null,
      "align_self": null,
      "border": null,
      "bottom": null,
      "display": null,
      "flex": null,
      "flex_flow": null,
      "grid_area": null,
      "grid_auto_columns": null,
      "grid_auto_flow": null,
      "grid_auto_rows": null,
      "grid_column": null,
      "grid_gap": null,
      "grid_row": null,
      "grid_template_areas": null,
      "grid_template_columns": null,
      "grid_template_rows": null,
      "height": null,
      "justify_content": null,
      "justify_items": null,
      "left": null,
      "margin": null,
      "max_height": null,
      "max_width": null,
      "min_height": null,
      "min_width": null,
      "object_fit": null,
      "object_position": null,
      "order": null,
      "overflow": null,
      "overflow_x": null,
      "overflow_y": null,
      "padding": null,
      "right": null,
      "top": null,
      "visibility": null,
      "width": null
     }
    },
    "c58471c60519419e9cdb3c7ff174d702": {
     "model_module": "@jupyter-widgets/base",
     "model_module_version": "1.2.0",
     "model_name": "LayoutModel",
     "state": {
      "_model_module": "@jupyter-widgets/base",
      "_model_module_version": "1.2.0",
      "_model_name": "LayoutModel",
      "_view_count": null,
      "_view_module": "@jupyter-widgets/base",
      "_view_module_version": "1.2.0",
      "_view_name": "LayoutView",
      "align_content": null,
      "align_items": null,
      "align_self": null,
      "border": null,
      "bottom": null,
      "display": null,
      "flex": null,
      "flex_flow": null,
      "grid_area": null,
      "grid_auto_columns": null,
      "grid_auto_flow": null,
      "grid_auto_rows": null,
      "grid_column": null,
      "grid_gap": null,
      "grid_row": null,
      "grid_template_areas": null,
      "grid_template_columns": null,
      "grid_template_rows": null,
      "height": null,
      "justify_content": null,
      "justify_items": null,
      "left": null,
      "margin": null,
      "max_height": null,
      "max_width": null,
      "min_height": null,
      "min_width": null,
      "object_fit": null,
      "object_position": null,
      "order": null,
      "overflow": null,
      "overflow_x": null,
      "overflow_y": null,
      "padding": null,
      "right": null,
      "top": null,
      "visibility": null,
      "width": null
     }
    },
    "c8f31460d7d5420db2c7840e287fac5b": {
     "model_module": "@jupyter-widgets/controls",
     "model_module_version": "1.5.0",
     "model_name": "HTMLModel",
     "state": {
      "_dom_classes": [],
      "_model_module": "@jupyter-widgets/controls",
      "_model_module_version": "1.5.0",
      "_model_name": "HTMLModel",
      "_view_count": null,
      "_view_module": "@jupyter-widgets/controls",
      "_view_module_version": "1.5.0",
      "_view_name": "HTMLView",
      "description": "",
      "description_tooltip": null,
      "layout": "IPY_MODEL_f63ee7f4234c45d48829e011f24eafde",
      "placeholder": "​",
      "style": "IPY_MODEL_f8bcfb1381aa46d89034ea50e30b43cf",
      "value": "Downloading yolox_l0.05.onnx: 100%"
     }
    },
    "cc6672c78dac468d9264efd90902c87d": {
     "model_module": "@jupyter-widgets/controls",
     "model_module_version": "1.5.0",
     "model_name": "ProgressStyleModel",
     "state": {
      "_model_module": "@jupyter-widgets/controls",
      "_model_module_version": "1.5.0",
      "_model_name": "ProgressStyleModel",
      "_view_count": null,
      "_view_module": "@jupyter-widgets/base",
      "_view_module_version": "1.2.0",
      "_view_name": "StyleView",
      "bar_color": null,
      "description_width": ""
     }
    },
    "daabde9b4b764797af6b96370e40c1d2": {
     "model_module": "@jupyter-widgets/base",
     "model_module_version": "1.2.0",
     "model_name": "LayoutModel",
     "state": {
      "_model_module": "@jupyter-widgets/base",
      "_model_module_version": "1.2.0",
      "_model_name": "LayoutModel",
      "_view_count": null,
      "_view_module": "@jupyter-widgets/base",
      "_view_module_version": "1.2.0",
      "_view_name": "LayoutView",
      "align_content": null,
      "align_items": null,
      "align_self": null,
      "border": null,
      "bottom": null,
      "display": null,
      "flex": null,
      "flex_flow": null,
      "grid_area": null,
      "grid_auto_columns": null,
      "grid_auto_flow": null,
      "grid_auto_rows": null,
      "grid_column": null,
      "grid_gap": null,
      "grid_row": null,
      "grid_template_areas": null,
      "grid_template_columns": null,
      "grid_template_rows": null,
      "height": null,
      "justify_content": null,
      "justify_items": null,
      "left": null,
      "margin": null,
      "max_height": null,
      "max_width": null,
      "min_height": null,
      "min_width": null,
      "object_fit": null,
      "object_position": null,
      "order": null,
      "overflow": null,
      "overflow_x": null,
      "overflow_y": null,
      "padding": null,
      "right": null,
      "top": null,
      "visibility": null,
      "width": null
     }
    },
    "df6e6c84cc1c4c7b8cf5f8555eb42166": {
     "model_module": "@jupyter-widgets/controls",
     "model_module_version": "1.5.0",
     "model_name": "ProgressStyleModel",
     "state": {
      "_model_module": "@jupyter-widgets/controls",
      "_model_module_version": "1.5.0",
      "_model_name": "ProgressStyleModel",
      "_view_count": null,
      "_view_module": "@jupyter-widgets/base",
      "_view_module_version": "1.2.0",
      "_view_name": "StyleView",
      "bar_color": null,
      "description_width": ""
     }
    },
    "e64cfd87330d4b238596da66db63d984": {
     "model_module": "@jupyter-widgets/controls",
     "model_module_version": "1.5.0",
     "model_name": "DescriptionStyleModel",
     "state": {
      "_model_module": "@jupyter-widgets/controls",
      "_model_module_version": "1.5.0",
      "_model_name": "DescriptionStyleModel",
      "_view_count": null,
      "_view_module": "@jupyter-widgets/base",
      "_view_module_version": "1.2.0",
      "_view_name": "StyleView",
      "description_width": ""
     }
    },
    "e7e6388db19d47ceb06afc75fbb8486c": {
     "model_module": "@jupyter-widgets/controls",
     "model_module_version": "1.5.0",
     "model_name": "HTMLModel",
     "state": {
      "_dom_classes": [],
      "_model_module": "@jupyter-widgets/controls",
      "_model_module_version": "1.5.0",
      "_model_name": "HTMLModel",
      "_view_count": null,
      "_view_module": "@jupyter-widgets/controls",
      "_view_module_version": "1.5.0",
      "_view_name": "HTMLView",
      "description": "",
      "description_tooltip": null,
      "layout": "IPY_MODEL_2bcca7acc6f047d6ad4efbf1e5333c58",
      "placeholder": "​",
      "style": "IPY_MODEL_052ec73371404595b7dec973dda308d4",
      "value": " 217M/217M [00:07&lt;00:00, 37.2MB/s]"
     }
    },
    "ef5fba5f330748faa9bd583d637087a6": {
     "model_module": "@jupyter-widgets/controls",
     "model_module_version": "1.5.0",
     "model_name": "ProgressStyleModel",
     "state": {
      "_model_module": "@jupyter-widgets/controls",
      "_model_module_version": "1.5.0",
      "_model_name": "ProgressStyleModel",
      "_view_count": null,
      "_view_module": "@jupyter-widgets/base",
      "_view_module_version": "1.2.0",
      "_view_name": "StyleView",
      "bar_color": null,
      "description_width": ""
     }
    },
    "ef897646c62444929b91935d3917b14d": {
     "model_module": "@jupyter-widgets/controls",
     "model_module_version": "1.5.0",
     "model_name": "HBoxModel",
     "state": {
      "_dom_classes": [],
      "_model_module": "@jupyter-widgets/controls",
      "_model_module_version": "1.5.0",
      "_model_name": "HBoxModel",
      "_view_count": null,
      "_view_module": "@jupyter-widgets/controls",
      "_view_module_version": "1.5.0",
      "_view_name": "HBoxView",
      "box_style": "",
      "children": [
       "IPY_MODEL_3bd05fe4e6bd4ea2b7bfcfba705369c5",
       "IPY_MODEL_27e36e7f92d7417bb221fa95406cfb2f",
       "IPY_MODEL_21318da3ae0644c28ec63983a34bd2ee"
      ],
      "layout": "IPY_MODEL_c428c0bd915d455986b3193e9636ea80"
     }
    },
    "f63ee7f4234c45d48829e011f24eafde": {
     "model_module": "@jupyter-widgets/base",
     "model_module_version": "1.2.0",
     "model_name": "LayoutModel",
     "state": {
      "_model_module": "@jupyter-widgets/base",
      "_model_module_version": "1.2.0",
      "_model_name": "LayoutModel",
      "_view_count": null,
      "_view_module": "@jupyter-widgets/base",
      "_view_module_version": "1.2.0",
      "_view_name": "LayoutView",
      "align_content": null,
      "align_items": null,
      "align_self": null,
      "border": null,
      "bottom": null,
      "display": null,
      "flex": null,
      "flex_flow": null,
      "grid_area": null,
      "grid_auto_columns": null,
      "grid_auto_flow": null,
      "grid_auto_rows": null,
      "grid_column": null,
      "grid_gap": null,
      "grid_row": null,
      "grid_template_areas": null,
      "grid_template_columns": null,
      "grid_template_rows": null,
      "height": null,
      "justify_content": null,
      "justify_items": null,
      "left": null,
      "margin": null,
      "max_height": null,
      "max_width": null,
      "min_height": null,
      "min_width": null,
      "object_fit": null,
      "object_position": null,
      "order": null,
      "overflow": null,
      "overflow_x": null,
      "overflow_y": null,
      "padding": null,
      "right": null,
      "top": null,
      "visibility": null,
      "width": null
     }
    },
    "f8bcfb1381aa46d89034ea50e30b43cf": {
     "model_module": "@jupyter-widgets/controls",
     "model_module_version": "1.5.0",
     "model_name": "DescriptionStyleModel",
     "state": {
      "_model_module": "@jupyter-widgets/controls",
      "_model_module_version": "1.5.0",
      "_model_name": "DescriptionStyleModel",
      "_view_count": null,
      "_view_module": "@jupyter-widgets/base",
      "_view_module_version": "1.2.0",
      "_view_name": "StyleView",
      "description_width": ""
     }
    },
    "fc994e0c5ced45c78c0b9bb6f19c073f": {
     "model_module": "@jupyter-widgets/controls",
     "model_module_version": "1.5.0",
     "model_name": "HTMLModel",
     "state": {
      "_dom_classes": [],
      "_model_module": "@jupyter-widgets/controls",
      "_model_module_version": "1.5.0",
      "_model_name": "HTMLModel",
      "_view_count": null,
      "_view_module": "@jupyter-widgets/controls",
      "_view_module_version": "1.5.0",
      "_view_name": "HTMLView",
      "description": "",
      "description_tooltip": null,
      "layout": "IPY_MODEL_daabde9b4b764797af6b96370e40c1d2",
      "placeholder": "​",
      "style": "IPY_MODEL_7d37b6f0ba8b4c5eb875635b98778d26",
      "value": " 1.47k/1.47k [00:00&lt;00:00, 66.9kB/s]"
     }
    }
   }
  }
 },
 "nbformat": 4,
 "nbformat_minor": 5
}
